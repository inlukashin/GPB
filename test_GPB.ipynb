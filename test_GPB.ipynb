{
 "cells": [
  {
   "cell_type": "code",
   "execution_count": 1,
   "metadata": {},
   "outputs": [
    {
     "name": "stderr",
     "output_type": "stream",
     "text": [
      "C:\\Users\\l-pla\\AppData\\Local\\Temp\\ipykernel_9832\\606577683.py:18: MatplotlibDeprecationWarning: The seaborn styles shipped by Matplotlib are deprecated since 3.6, as they no longer correspond to the styles shipped by seaborn. However, they will remain available as 'seaborn-v0_8-<style>'. Alternatively, directly use the seaborn API instead.\n",
      "  plt.style.use('seaborn')\n"
     ]
    }
   ],
   "source": [
    "import numpy as np\n",
    "import pandas as pd\n",
    "import matplotlib.pyplot as plt\n",
    "import seaborn as sns\n",
    "from tqdm.notebook import tqdm\n",
    "\n",
    "from sklearn import preprocessing\n",
    "import category_encoders as ce\n",
    "from sklearn.model_selection import train_test_split\n",
    "from sklearn import metrics\n",
    "\n",
    "from catboost import CatBoostRegressor\n",
    "from catboost.utils import eval_metric\n",
    "from catboost import cv\n",
    "from catboost import Pool\n",
    "from sklearn.model_selection import train_test_split\n",
    "%matplotlib inline\n",
    "plt.style.use('seaborn')"
   ]
  },
  {
   "cell_type": "markdown",
   "metadata": {},
   "source": [
    "#### 1. Загрузка данных"
   ]
  },
  {
   "cell_type": "code",
   "execution_count": 56,
   "metadata": {},
   "outputs": [],
   "source": [
    "path = r'data\\train_data.zip'\n",
    "data = pd.read_csv(path, compression = 'zip')"
   ]
  },
  {
   "cell_type": "code",
   "execution_count": 57,
   "metadata": {},
   "outputs": [
    {
     "data": {
      "text/html": [
       "<div>\n",
       "<style scoped>\n",
       "    .dataframe tbody tr th:only-of-type {\n",
       "        vertical-align: middle;\n",
       "    }\n",
       "\n",
       "    .dataframe tbody tr th {\n",
       "        vertical-align: top;\n",
       "    }\n",
       "\n",
       "    .dataframe thead th {\n",
       "        text-align: right;\n",
       "    }\n",
       "</style>\n",
       "<table border=\"1\" class=\"dataframe\">\n",
       "  <thead>\n",
       "    <tr style=\"text-align: right;\">\n",
       "      <th></th>\n",
       "      <th>product_name</th>\n",
       "      <th>period</th>\n",
       "      <th>price</th>\n",
       "      <th>postcode</th>\n",
       "      <th>address_name</th>\n",
       "      <th>lat</th>\n",
       "      <th>lon</th>\n",
       "      <th>object_type</th>\n",
       "      <th>total_square</th>\n",
       "      <th>rooms</th>\n",
       "      <th>floor</th>\n",
       "      <th>city</th>\n",
       "      <th>settlement</th>\n",
       "      <th>district</th>\n",
       "      <th>area</th>\n",
       "      <th>description</th>\n",
       "      <th>source</th>\n",
       "    </tr>\n",
       "  </thead>\n",
       "  <tbody>\n",
       "    <tr>\n",
       "      <th>0</th>\n",
       "      <td>3-комнатная, 137 м²</td>\n",
       "      <td>NaN</td>\n",
       "      <td>63000000</td>\n",
       "      <td>127473.0</td>\n",
       "      <td>2-й Щемиловский переулок, 5а</td>\n",
       "      <td>55.778894</td>\n",
       "      <td>37.608844</td>\n",
       "      <td>Квартира</td>\n",
       "      <td>137.0</td>\n",
       "      <td>3.0</td>\n",
       "      <td>6.0</td>\n",
       "      <td>Москва</td>\n",
       "      <td>NaN</td>\n",
       "      <td>Тверской район</td>\n",
       "      <td>NaN</td>\n",
       "      <td>Просторная квартира свободной планировки с пан...</td>\n",
       "      <td>ЦИАН</td>\n",
       "    </tr>\n",
       "    <tr>\n",
       "      <th>1</th>\n",
       "      <td>Студия, 16,7 м²</td>\n",
       "      <td>NaN</td>\n",
       "      <td>3250000</td>\n",
       "      <td>108815.0</td>\n",
       "      <td>Харлампиева, 46</td>\n",
       "      <td>55.551025</td>\n",
       "      <td>37.313054</td>\n",
       "      <td>Квартира</td>\n",
       "      <td>16.7</td>\n",
       "      <td>NaN</td>\n",
       "      <td>1.0</td>\n",
       "      <td>Москва</td>\n",
       "      <td>NaN</td>\n",
       "      <td>Филимонковское поселение</td>\n",
       "      <td>NaN</td>\n",
       "      <td>ВНИМАНИЕ! ОЧЕНЬ ПРИВЛЕКАТЕЛЬНОЕ ПРЕ...</td>\n",
       "      <td>Домклик</td>\n",
       "    </tr>\n",
       "    <tr>\n",
       "      <th>2</th>\n",
       "      <td>3-комнатная, 76 м²</td>\n",
       "      <td>NaN</td>\n",
       "      <td>16004680</td>\n",
       "      <td>NaN</td>\n",
       "      <td>ЖК Прокшино, 8 к4</td>\n",
       "      <td>55.594802</td>\n",
       "      <td>37.431264</td>\n",
       "      <td>Квартира</td>\n",
       "      <td>76.0</td>\n",
       "      <td>3.0</td>\n",
       "      <td>6.0</td>\n",
       "      <td>Москва</td>\n",
       "      <td>NaN</td>\n",
       "      <td>Сосенское поселение</td>\n",
       "      <td>NaN</td>\n",
       "      <td>Apт.1684018. 0,01% - гибкая ипотека! Воспользу...</td>\n",
       "      <td>Яндекс.Недвижимость</td>\n",
       "    </tr>\n",
       "    <tr>\n",
       "      <th>3</th>\n",
       "      <td>1-комнатная, 24 м²</td>\n",
       "      <td>NaN</td>\n",
       "      <td>7841776</td>\n",
       "      <td>NaN</td>\n",
       "      <td>ЖК Прокшино, 6 к2</td>\n",
       "      <td>55.594332</td>\n",
       "      <td>37.428099</td>\n",
       "      <td>Квартира</td>\n",
       "      <td>24.0</td>\n",
       "      <td>1.0</td>\n",
       "      <td>10.0</td>\n",
       "      <td>Москва</td>\n",
       "      <td>NaN</td>\n",
       "      <td>Сосенское поселение</td>\n",
       "      <td>NaN</td>\n",
       "      <td>Продается однокомнатная квартира № 381 в новос...</td>\n",
       "      <td>Новострой-М</td>\n",
       "    </tr>\n",
       "    <tr>\n",
       "      <th>4</th>\n",
       "      <td>3-комнатная, 126 м²</td>\n",
       "      <td>NaN</td>\n",
       "      <td>120000000</td>\n",
       "      <td>121352.0</td>\n",
       "      <td>Давыдковская, 18</td>\n",
       "      <td>55.721097</td>\n",
       "      <td>37.464342</td>\n",
       "      <td>Квартира</td>\n",
       "      <td>126.0</td>\n",
       "      <td>3.0</td>\n",
       "      <td>16.0</td>\n",
       "      <td>Москва</td>\n",
       "      <td>NaN</td>\n",
       "      <td>Фили-Давыдково район</td>\n",
       "      <td>NaN</td>\n",
       "      <td>Шикарное предложение!\\nПродаётся трёхкомнатная...</td>\n",
       "      <td>Домклик</td>\n",
       "    </tr>\n",
       "    <tr>\n",
       "      <th>5</th>\n",
       "      <td>3-комнатная, 74 м²</td>\n",
       "      <td>NaN</td>\n",
       "      <td>13300000</td>\n",
       "      <td>142721.0</td>\n",
       "      <td>Пригородное шоссе, 3</td>\n",
       "      <td>55.557342</td>\n",
       "      <td>37.809447</td>\n",
       "      <td>Квартира</td>\n",
       "      <td>74.0</td>\n",
       "      <td>3.0</td>\n",
       "      <td>14.0</td>\n",
       "      <td>NaN</td>\n",
       "      <td>д. Мисайлово</td>\n",
       "      <td>NaN</td>\n",
       "      <td>NaN</td>\n",
       "      <td>Арт. 32494997 \\nОтличная 3-х комнатная квартир...</td>\n",
       "      <td>ЦИАН</td>\n",
       "    </tr>\n",
       "    <tr>\n",
       "      <th>6</th>\n",
       "      <td>2-комнатная, 65 м²</td>\n",
       "      <td>NaN</td>\n",
       "      <td>9500000</td>\n",
       "      <td>143986.0</td>\n",
       "      <td>Автозаводская, 4 к2</td>\n",
       "      <td>55.740408</td>\n",
       "      <td>38.011392</td>\n",
       "      <td>Квартира</td>\n",
       "      <td>65.0</td>\n",
       "      <td>2.0</td>\n",
       "      <td>3.0</td>\n",
       "      <td>Балашиха</td>\n",
       "      <td>NaN</td>\n",
       "      <td>NaN</td>\n",
       "      <td>Железнодорожный м-н</td>\n",
       "      <td>Предлагается к покупке просторная двухкомнатна...</td>\n",
       "      <td>Домклик</td>\n",
       "    </tr>\n",
       "    <tr>\n",
       "      <th>7</th>\n",
       "      <td>3-комнатная, 87 м²</td>\n",
       "      <td>NaN</td>\n",
       "      <td>15000000</td>\n",
       "      <td>143072.0</td>\n",
       "      <td>Михаила Кутузова, 15</td>\n",
       "      <td>55.659569</td>\n",
       "      <td>37.218370</td>\n",
       "      <td>Квартира</td>\n",
       "      <td>87.0</td>\n",
       "      <td>3.0</td>\n",
       "      <td>11.0</td>\n",
       "      <td>NaN</td>\n",
       "      <td>пос. ВНИИССОК</td>\n",
       "      <td>NaN</td>\n",
       "      <td>NaN</td>\n",
       "      <td>ЖК Гусарская Баллада, кирпичный дом, огороженн...</td>\n",
       "      <td>ЦИАН</td>\n",
       "    </tr>\n",
       "    <tr>\n",
       "      <th>8</th>\n",
       "      <td>2-комнатная, 35,8 м²</td>\n",
       "      <td>NaN</td>\n",
       "      <td>7135671</td>\n",
       "      <td>NaN</td>\n",
       "      <td>3-й квартал, к66</td>\n",
       "      <td>55.700571</td>\n",
       "      <td>37.962692</td>\n",
       "      <td>Квартира</td>\n",
       "      <td>35.8</td>\n",
       "      <td>2.0</td>\n",
       "      <td>11.0</td>\n",
       "      <td>Люберцы</td>\n",
       "      <td>NaN</td>\n",
       "      <td>NaN</td>\n",
       "      <td>Самолёт м-н</td>\n",
       "      <td>Продается двухкомнатная квартира № 542 в новос...</td>\n",
       "      <td>Новострой-М</td>\n",
       "    </tr>\n",
       "    <tr>\n",
       "      <th>9</th>\n",
       "      <td>2-комнатная, 68,3 м²</td>\n",
       "      <td>NaN</td>\n",
       "      <td>31500000</td>\n",
       "      <td>127427.0</td>\n",
       "      <td>улица Академика Королёва, 21</td>\n",
       "      <td>55.820044</td>\n",
       "      <td>37.602498</td>\n",
       "      <td>Квартира</td>\n",
       "      <td>68.3</td>\n",
       "      <td>2.0</td>\n",
       "      <td>4.0</td>\n",
       "      <td>Москва</td>\n",
       "      <td>NaN</td>\n",
       "      <td>Марфино район</td>\n",
       "      <td>NaN</td>\n",
       "      <td>Дом ''Достижение'' располагается в Москве в ок...</td>\n",
       "      <td>ЦИАН</td>\n",
       "    </tr>\n",
       "  </tbody>\n",
       "</table>\n",
       "</div>"
      ],
      "text/plain": [
       "           product_name  period      price  postcode  \\\n",
       "0   3-комнатная, 137 м²     NaN   63000000  127473.0   \n",
       "1       Студия, 16,7 м²     NaN    3250000  108815.0   \n",
       "2    3-комнатная, 76 м²     NaN   16004680       NaN   \n",
       "3    1-комнатная, 24 м²     NaN    7841776       NaN   \n",
       "4   3-комнатная, 126 м²     NaN  120000000  121352.0   \n",
       "5    3-комнатная, 74 м²     NaN   13300000  142721.0   \n",
       "6    2-комнатная, 65 м²     NaN    9500000  143986.0   \n",
       "7    3-комнатная, 87 м²     NaN   15000000  143072.0   \n",
       "8  2-комнатная, 35,8 м²     NaN    7135671       NaN   \n",
       "9  2-комнатная, 68,3 м²     NaN   31500000  127427.0   \n",
       "\n",
       "                   address_name        lat        lon object_type  \\\n",
       "0  2-й Щемиловский переулок, 5а  55.778894  37.608844    Квартира   \n",
       "1               Харлампиева, 46  55.551025  37.313054    Квартира   \n",
       "2             ЖК Прокшино, 8 к4  55.594802  37.431264    Квартира   \n",
       "3             ЖК Прокшино, 6 к2  55.594332  37.428099    Квартира   \n",
       "4              Давыдковская, 18  55.721097  37.464342    Квартира   \n",
       "5          Пригородное шоссе, 3  55.557342  37.809447    Квартира   \n",
       "6           Автозаводская, 4 к2  55.740408  38.011392    Квартира   \n",
       "7          Михаила Кутузова, 15  55.659569  37.218370    Квартира   \n",
       "8              3-й квартал, к66  55.700571  37.962692    Квартира   \n",
       "9  улица Академика Королёва, 21  55.820044  37.602498    Квартира   \n",
       "\n",
       "   total_square  rooms  floor      city     settlement  \\\n",
       "0         137.0    3.0    6.0    Москва            NaN   \n",
       "1          16.7    NaN    1.0    Москва            NaN   \n",
       "2          76.0    3.0    6.0    Москва            NaN   \n",
       "3          24.0    1.0   10.0    Москва            NaN   \n",
       "4         126.0    3.0   16.0    Москва            NaN   \n",
       "5          74.0    3.0   14.0       NaN   д. Мисайлово   \n",
       "6          65.0    2.0    3.0  Балашиха            NaN   \n",
       "7          87.0    3.0   11.0       NaN  пос. ВНИИССОК   \n",
       "8          35.8    2.0   11.0   Люберцы            NaN   \n",
       "9          68.3    2.0    4.0    Москва            NaN   \n",
       "\n",
       "                   district                 area  \\\n",
       "0            Тверской район                  NaN   \n",
       "1  Филимонковское поселение                  NaN   \n",
       "2       Сосенское поселение                  NaN   \n",
       "3       Сосенское поселение                  NaN   \n",
       "4      Фили-Давыдково район                  NaN   \n",
       "5                       NaN                  NaN   \n",
       "6                       NaN  Железнодорожный м-н   \n",
       "7                       NaN                  NaN   \n",
       "8                       NaN          Самолёт м-н   \n",
       "9             Марфино район                  NaN   \n",
       "\n",
       "                                         description               source  \n",
       "0  Просторная квартира свободной планировки с пан...                 ЦИАН  \n",
       "1             ВНИМАНИЕ! ОЧЕНЬ ПРИВЛЕКАТЕЛЬНОЕ ПРЕ...              Домклик  \n",
       "2  Apт.1684018. 0,01% - гибкая ипотека! Воспользу...  Яндекс.Недвижимость  \n",
       "3  Продается однокомнатная квартира № 381 в новос...          Новострой-М  \n",
       "4  Шикарное предложение!\\nПродаётся трёхкомнатная...              Домклик  \n",
       "5  Арт. 32494997 \\nОтличная 3-х комнатная квартир...                 ЦИАН  \n",
       "6  Предлагается к покупке просторная двухкомнатна...              Домклик  \n",
       "7  ЖК Гусарская Баллада, кирпичный дом, огороженн...                 ЦИАН  \n",
       "8  Продается двухкомнатная квартира № 542 в новос...          Новострой-М  \n",
       "9  Дом ''Достижение'' располагается в Москве в ок...                 ЦИАН  "
      ]
     },
     "execution_count": 57,
     "metadata": {},
     "output_type": "execute_result"
    }
   ],
   "source": [
    "data.head(10)"
   ]
  },
  {
   "cell_type": "code",
   "execution_count": 58,
   "metadata": {},
   "outputs": [
    {
     "name": "stdout",
     "output_type": "stream",
     "text": [
      "<class 'pandas.core.frame.DataFrame'>\n",
      "RangeIndex: 98822 entries, 0 to 98821\n",
      "Data columns (total 17 columns):\n",
      " #   Column        Non-Null Count  Dtype  \n",
      "---  ------        --------------  -----  \n",
      " 0   product_name  98822 non-null  object \n",
      " 1   period        0 non-null      float64\n",
      " 2   price         98822 non-null  int64  \n",
      " 3   postcode      93675 non-null  float64\n",
      " 4   address_name  98821 non-null  object \n",
      " 5   lat           98822 non-null  float64\n",
      " 6   lon           98822 non-null  float64\n",
      " 7   object_type   98822 non-null  object \n",
      " 8   total_square  98822 non-null  float64\n",
      " 9   rooms         94840 non-null  float64\n",
      " 10  floor         98822 non-null  float64\n",
      " 11  city          91928 non-null  object \n",
      " 12  settlement    6894 non-null   object \n",
      " 13  district      75111 non-null  object \n",
      " 14  area          19498 non-null  object \n",
      " 15  description   98573 non-null  object \n",
      " 16  source        98822 non-null  object \n",
      "dtypes: float64(7), int64(1), object(9)\n",
      "memory usage: 12.8+ MB\n"
     ]
    }
   ],
   "source": [
    "data.info()"
   ]
  },
  {
   "cell_type": "markdown",
   "metadata": {},
   "source": [
    "#### 2. Очистка данных и заполнение пропусков\n"
   ]
  },
  {
   "cell_type": "code",
   "execution_count": 59,
   "metadata": {},
   "outputs": [],
   "source": [
    "# Выведем список признаков с прокусками отсортированный по возрастанию количества пропусков \n",
    "\n",
    "def series_cols_with_null (df: pd.DataFrame) -> pd.Series:\n",
    "    cols_null_percent = df.isnull().mean() * 100\n",
    "    cols_with_null = cols_null_percent[cols_null_percent>0].sort_values(ascending=False)\n",
    "    return cols_with_null"
   ]
  },
  {
   "cell_type": "code",
   "execution_count": 60,
   "metadata": {},
   "outputs": [
    {
     "data": {
      "text/plain": [
       "period          100.000000\n",
       "settlement       93.023821\n",
       "area             80.269576\n",
       "district         23.993645\n",
       "city              6.976179\n",
       "postcode          5.208354\n",
       "rooms             4.029467\n",
       "description       0.251968\n",
       "address_name      0.001012\n",
       "dtype: float64"
      ]
     },
     "execution_count": 60,
     "metadata": {},
     "output_type": "execute_result"
    }
   ],
   "source": [
    "series_cols_with_null(data)"
   ]
  },
  {
   "cell_type": "markdown",
   "metadata": {},
   "source": [
    "##### 2.1. Удалим признаки period"
   ]
  },
  {
   "cell_type": "code",
   "execution_count": 61,
   "metadata": {},
   "outputs": [],
   "source": [
    "# Удалим признак period тк в нем нет информации\n",
    "data.drop(columns = ['period'], axis = 1, inplace = True)"
   ]
  },
  {
   "cell_type": "markdown",
   "metadata": {},
   "source": [
    "##### Заполним пропуски в признаках city и district"
   ]
  },
  {
   "cell_type": "code",
   "execution_count": 62,
   "metadata": {},
   "outputs": [
    {
     "name": "stdout",
     "output_type": "stream",
     "text": [
      "<class 'pandas.core.frame.DataFrame'>\n",
      "Int64Index: 6894 entries, 5 to 98815\n",
      "Data columns (total 16 columns):\n",
      " #   Column        Non-Null Count  Dtype  \n",
      "---  ------        --------------  -----  \n",
      " 0   product_name  6894 non-null   object \n",
      " 1   price         6894 non-null   int64  \n",
      " 2   postcode      6508 non-null   float64\n",
      " 3   address_name  6894 non-null   object \n",
      " 4   lat           6894 non-null   float64\n",
      " 5   lon           6894 non-null   float64\n",
      " 6   object_type   6894 non-null   object \n",
      " 7   total_square  6894 non-null   float64\n",
      " 8   rooms         6130 non-null   float64\n",
      " 9   floor         6894 non-null   float64\n",
      " 10  city          0 non-null      object \n",
      " 11  settlement    6894 non-null   object \n",
      " 12  district      1045 non-null   object \n",
      " 13  area          2254 non-null   object \n",
      " 14  description   6894 non-null   object \n",
      " 15  source        6894 non-null   object \n",
      "dtypes: float64(6), int64(1), object(9)\n",
      "memory usage: 915.6+ KB\n"
     ]
    }
   ],
   "source": [
    "# Отфильтруем таблицу, чтобы вывести все строки с пропусками в признаке city\n",
    "data[data.city.isna()].info()"
   ]
  },
  {
   "cell_type": "code",
   "execution_count": 63,
   "metadata": {},
   "outputs": [
    {
     "name": "stdout",
     "output_type": "stream",
     "text": [
      "<class 'pandas.core.frame.DataFrame'>\n",
      "Int64Index: 23711 entries, 5 to 98815\n",
      "Data columns (total 16 columns):\n",
      " #   Column        Non-Null Count  Dtype  \n",
      "---  ------        --------------  -----  \n",
      " 0   product_name  23711 non-null  object \n",
      " 1   price         23711 non-null  int64  \n",
      " 2   postcode      23008 non-null  float64\n",
      " 3   address_name  23710 non-null  object \n",
      " 4   lat           23711 non-null  float64\n",
      " 5   lon           23711 non-null  float64\n",
      " 6   object_type   23711 non-null  object \n",
      " 7   total_square  23711 non-null  float64\n",
      " 8   rooms         22060 non-null  float64\n",
      " 9   floor         23711 non-null  float64\n",
      " 10  city          17862 non-null  object \n",
      " 11  settlement    5849 non-null   object \n",
      " 12  district      0 non-null      object \n",
      " 13  area          16239 non-null  object \n",
      " 14  description   23711 non-null  object \n",
      " 15  source        23711 non-null  object \n",
      "dtypes: float64(6), int64(1), object(9)\n",
      "memory usage: 3.1+ MB\n"
     ]
    }
   ],
   "source": [
    "# Отфильтруем таблицу, чтобы вывести все строки с пропусками в признаке district\n",
    "data[data.district.isna()].info()"
   ]
  },
  {
   "cell_type": "markdown",
   "metadata": {},
   "source": [
    "Заметим, что в исходном наборе данных квартиры расположенные в населенном пункте не дублирутся в признак city и наоборот. Похожая картина и у пизнаков district и area."
   ]
  },
  {
   "cell_type": "markdown",
   "metadata": {},
   "source": [
    "Объединим признаки city и settlement в один признак city.  \n",
    "Также объединим признаки district и area в один признак district.\n"
   ]
  },
  {
   "cell_type": "code",
   "execution_count": 64,
   "metadata": {},
   "outputs": [],
   "source": [
    "data['city'] = data['city'].fillna(data['settlement'])\n",
    "data['district'] = data['district'].fillna(data['area'])"
   ]
  },
  {
   "cell_type": "code",
   "execution_count": 65,
   "metadata": {},
   "outputs": [
    {
     "data": {
      "text/html": [
       "<div>\n",
       "<style scoped>\n",
       "    .dataframe tbody tr th:only-of-type {\n",
       "        vertical-align: middle;\n",
       "    }\n",
       "\n",
       "    .dataframe tbody tr th {\n",
       "        vertical-align: top;\n",
       "    }\n",
       "\n",
       "    .dataframe thead th {\n",
       "        text-align: right;\n",
       "    }\n",
       "</style>\n",
       "<table border=\"1\" class=\"dataframe\">\n",
       "  <thead>\n",
       "    <tr style=\"text-align: right;\">\n",
       "      <th></th>\n",
       "      <th>product_name</th>\n",
       "      <th>price</th>\n",
       "      <th>postcode</th>\n",
       "      <th>address_name</th>\n",
       "      <th>lat</th>\n",
       "      <th>lon</th>\n",
       "      <th>object_type</th>\n",
       "      <th>total_square</th>\n",
       "      <th>rooms</th>\n",
       "      <th>floor</th>\n",
       "      <th>city</th>\n",
       "      <th>settlement</th>\n",
       "      <th>district</th>\n",
       "      <th>area</th>\n",
       "      <th>description</th>\n",
       "      <th>source</th>\n",
       "    </tr>\n",
       "  </thead>\n",
       "  <tbody>\n",
       "    <tr>\n",
       "      <th>5</th>\n",
       "      <td>3-комнатная, 74 м²</td>\n",
       "      <td>13300000</td>\n",
       "      <td>142721.0</td>\n",
       "      <td>Пригородное шоссе, 3</td>\n",
       "      <td>55.557342</td>\n",
       "      <td>37.809447</td>\n",
       "      <td>Квартира</td>\n",
       "      <td>74.0</td>\n",
       "      <td>3.0</td>\n",
       "      <td>14.0</td>\n",
       "      <td>д. Мисайлово</td>\n",
       "      <td>д. Мисайлово</td>\n",
       "      <td>NaN</td>\n",
       "      <td>NaN</td>\n",
       "      <td>Арт. 32494997 \\nОтличная 3-х комнатная квартир...</td>\n",
       "      <td>ЦИАН</td>\n",
       "    </tr>\n",
       "    <tr>\n",
       "      <th>7</th>\n",
       "      <td>3-комнатная, 87 м²</td>\n",
       "      <td>15000000</td>\n",
       "      <td>143072.0</td>\n",
       "      <td>Михаила Кутузова, 15</td>\n",
       "      <td>55.659569</td>\n",
       "      <td>37.218370</td>\n",
       "      <td>Квартира</td>\n",
       "      <td>87.0</td>\n",
       "      <td>3.0</td>\n",
       "      <td>11.0</td>\n",
       "      <td>пос. ВНИИССОК</td>\n",
       "      <td>пос. ВНИИССОК</td>\n",
       "      <td>NaN</td>\n",
       "      <td>NaN</td>\n",
       "      <td>ЖК Гусарская Баллада, кирпичный дом, огороженн...</td>\n",
       "      <td>ЦИАН</td>\n",
       "    </tr>\n",
       "    <tr>\n",
       "      <th>35</th>\n",
       "      <td>2-комнатная, 54 м²</td>\n",
       "      <td>10260000</td>\n",
       "      <td>140060.0</td>\n",
       "      <td>Ленинградская, 15</td>\n",
       "      <td>55.607467</td>\n",
       "      <td>37.980339</td>\n",
       "      <td>Квартира</td>\n",
       "      <td>54.0</td>\n",
       "      <td>2.0</td>\n",
       "      <td>2.0</td>\n",
       "      <td>рп. Октябрьский</td>\n",
       "      <td>рп. Октябрьский</td>\n",
       "      <td>NaN</td>\n",
       "      <td>NaN</td>\n",
       "      <td>Продам квартиру. Ремонт делали для себя из дор...</td>\n",
       "      <td>Домклик</td>\n",
       "    </tr>\n",
       "    <tr>\n",
       "      <th>40</th>\n",
       "      <td>1-комнатная, 39,2 м²</td>\n",
       "      <td>6600000</td>\n",
       "      <td>143902.0</td>\n",
       "      <td>улица Советская, 56</td>\n",
       "      <td>55.817534</td>\n",
       "      <td>37.953557</td>\n",
       "      <td>Квартира</td>\n",
       "      <td>39.2</td>\n",
       "      <td>1.0</td>\n",
       "      <td>12.0</td>\n",
       "      <td>Балашиха</td>\n",
       "      <td>NaN</td>\n",
       "      <td>NaN</td>\n",
       "      <td>NaN</td>\n",
       "      <td>Продается однокомнатная квартира с ремонтом, м...</td>\n",
       "      <td>Домклик</td>\n",
       "    </tr>\n",
       "    <tr>\n",
       "      <th>48</th>\n",
       "      <td>3-комнатная, 86,5 м²</td>\n",
       "      <td>14400000</td>\n",
       "      <td>141207.0</td>\n",
       "      <td>Писаревская, 5</td>\n",
       "      <td>56.008364</td>\n",
       "      <td>37.842638</td>\n",
       "      <td>Квартира</td>\n",
       "      <td>86.5</td>\n",
       "      <td>3.0</td>\n",
       "      <td>12.0</td>\n",
       "      <td>Пушкино</td>\n",
       "      <td>NaN</td>\n",
       "      <td>NaN</td>\n",
       "      <td>NaN</td>\n",
       "      <td>Код объекта 2840.\\n\\nТрёхкомнатная квартира на...</td>\n",
       "      <td>ЦИАН</td>\n",
       "    </tr>\n",
       "    <tr>\n",
       "      <th>...</th>\n",
       "      <td>...</td>\n",
       "      <td>...</td>\n",
       "      <td>...</td>\n",
       "      <td>...</td>\n",
       "      <td>...</td>\n",
       "      <td>...</td>\n",
       "      <td>...</td>\n",
       "      <td>...</td>\n",
       "      <td>...</td>\n",
       "      <td>...</td>\n",
       "      <td>...</td>\n",
       "      <td>...</td>\n",
       "      <td>...</td>\n",
       "      <td>...</td>\n",
       "      <td>...</td>\n",
       "      <td>...</td>\n",
       "    </tr>\n",
       "    <tr>\n",
       "      <th>98750</th>\n",
       "      <td>1-комнатная, 40,7 м²</td>\n",
       "      <td>6550000</td>\n",
       "      <td>142715.0</td>\n",
       "      <td>Римский проезд, 5</td>\n",
       "      <td>55.596843</td>\n",
       "      <td>37.767380</td>\n",
       "      <td>Квартира</td>\n",
       "      <td>40.7</td>\n",
       "      <td>1.0</td>\n",
       "      <td>8.0</td>\n",
       "      <td>пос. Развилка</td>\n",
       "      <td>пос. Развилка</td>\n",
       "      <td>NaN</td>\n",
       "      <td>NaN</td>\n",
       "      <td>Квартира подходит под рассрочку КУПИ СЕЙЧАС ПЛ...</td>\n",
       "      <td>Домклик</td>\n",
       "    </tr>\n",
       "    <tr>\n",
       "      <th>98759</th>\n",
       "      <td>2-комнатная, 57,9 м²</td>\n",
       "      <td>10065081</td>\n",
       "      <td>142715.0</td>\n",
       "      <td>посёлок Развилка, к7</td>\n",
       "      <td>55.598270</td>\n",
       "      <td>37.769267</td>\n",
       "      <td>Квартира</td>\n",
       "      <td>57.9</td>\n",
       "      <td>2.0</td>\n",
       "      <td>1.0</td>\n",
       "      <td>пос. Развилка</td>\n",
       "      <td>пос. Развилка</td>\n",
       "      <td>NaN</td>\n",
       "      <td>NaN</td>\n",
       "      <td>Продается двухкомнатная квартира № 72 в новост...</td>\n",
       "      <td>Новострой-М</td>\n",
       "    </tr>\n",
       "    <tr>\n",
       "      <th>98765</th>\n",
       "      <td>2-комнатная, 42 м²</td>\n",
       "      <td>5750000</td>\n",
       "      <td>141280.0</td>\n",
       "      <td>Студенческий проезд, 40</td>\n",
       "      <td>55.980706</td>\n",
       "      <td>37.908912</td>\n",
       "      <td>Квартира</td>\n",
       "      <td>42.0</td>\n",
       "      <td>2.0</td>\n",
       "      <td>2.0</td>\n",
       "      <td>Ивантеевка</td>\n",
       "      <td>NaN</td>\n",
       "      <td>NaN</td>\n",
       "      <td>NaN</td>\n",
       "      <td>Вашему вниманию предлагается 2-х комнатная ква...</td>\n",
       "      <td>Домклик</td>\n",
       "    </tr>\n",
       "    <tr>\n",
       "      <th>98814</th>\n",
       "      <td>1-комнатная, 40 м²</td>\n",
       "      <td>6000000</td>\n",
       "      <td>140060.0</td>\n",
       "      <td>60 лет Победы, 10а</td>\n",
       "      <td>55.606092</td>\n",
       "      <td>37.965460</td>\n",
       "      <td>Квартира</td>\n",
       "      <td>40.0</td>\n",
       "      <td>1.0</td>\n",
       "      <td>10.0</td>\n",
       "      <td>рп. Октябрьский</td>\n",
       "      <td>рп. Октябрьский</td>\n",
       "      <td>NaN</td>\n",
       "      <td>NaN</td>\n",
       "      <td>Продается просторная, теплая однокомнатная ква...</td>\n",
       "      <td>Домклик</td>\n",
       "    </tr>\n",
       "    <tr>\n",
       "      <th>98815</th>\n",
       "      <td>2-комнатная, 57 м²</td>\n",
       "      <td>15500000</td>\n",
       "      <td>143085.0</td>\n",
       "      <td>Медовая улица, 4</td>\n",
       "      <td>55.682986</td>\n",
       "      <td>37.394973</td>\n",
       "      <td>Квартира</td>\n",
       "      <td>57.0</td>\n",
       "      <td>2.0</td>\n",
       "      <td>3.0</td>\n",
       "      <td>рп. Заречье</td>\n",
       "      <td>рп. Заречье</td>\n",
       "      <td>NaN</td>\n",
       "      <td>NaN</td>\n",
       "      <td>Предлагаем к покупке светлую, просторную еврод...</td>\n",
       "      <td>ЦИАН</td>\n",
       "    </tr>\n",
       "  </tbody>\n",
       "</table>\n",
       "<p>7472 rows × 16 columns</p>\n",
       "</div>"
      ],
      "text/plain": [
       "               product_name     price  postcode             address_name  \\\n",
       "5        3-комнатная, 74 м²  13300000  142721.0     Пригородное шоссе, 3   \n",
       "7        3-комнатная, 87 м²  15000000  143072.0     Михаила Кутузова, 15   \n",
       "35       2-комнатная, 54 м²  10260000  140060.0        Ленинградская, 15   \n",
       "40     1-комнатная, 39,2 м²   6600000  143902.0      улица Советская, 56   \n",
       "48     3-комнатная, 86,5 м²  14400000  141207.0           Писаревская, 5   \n",
       "...                     ...       ...       ...                      ...   \n",
       "98750  1-комнатная, 40,7 м²   6550000  142715.0        Римский проезд, 5   \n",
       "98759  2-комнатная, 57,9 м²  10065081  142715.0     посёлок Развилка, к7   \n",
       "98765    2-комнатная, 42 м²   5750000  141280.0  Студенческий проезд, 40   \n",
       "98814    1-комнатная, 40 м²   6000000  140060.0       60 лет Победы, 10а   \n",
       "98815    2-комнатная, 57 м²  15500000  143085.0         Медовая улица, 4   \n",
       "\n",
       "             lat        lon object_type  total_square  rooms  floor  \\\n",
       "5      55.557342  37.809447    Квартира          74.0    3.0   14.0   \n",
       "7      55.659569  37.218370    Квартира          87.0    3.0   11.0   \n",
       "35     55.607467  37.980339    Квартира          54.0    2.0    2.0   \n",
       "40     55.817534  37.953557    Квартира          39.2    1.0   12.0   \n",
       "48     56.008364  37.842638    Квартира          86.5    3.0   12.0   \n",
       "...          ...        ...         ...           ...    ...    ...   \n",
       "98750  55.596843  37.767380    Квартира          40.7    1.0    8.0   \n",
       "98759  55.598270  37.769267    Квартира          57.9    2.0    1.0   \n",
       "98765  55.980706  37.908912    Квартира          42.0    2.0    2.0   \n",
       "98814  55.606092  37.965460    Квартира          40.0    1.0   10.0   \n",
       "98815  55.682986  37.394973    Квартира          57.0    2.0    3.0   \n",
       "\n",
       "                  city       settlement district area  \\\n",
       "5         д. Мисайлово     д. Мисайлово      NaN  NaN   \n",
       "7        пос. ВНИИССОК    пос. ВНИИССОК      NaN  NaN   \n",
       "35     рп. Октябрьский  рп. Октябрьский      NaN  NaN   \n",
       "40            Балашиха              NaN      NaN  NaN   \n",
       "48             Пушкино              NaN      NaN  NaN   \n",
       "...                ...              ...      ...  ...   \n",
       "98750    пос. Развилка    пос. Развилка      NaN  NaN   \n",
       "98759    пос. Развилка    пос. Развилка      NaN  NaN   \n",
       "98765       Ивантеевка              NaN      NaN  NaN   \n",
       "98814  рп. Октябрьский  рп. Октябрьский      NaN  NaN   \n",
       "98815      рп. Заречье      рп. Заречье      NaN  NaN   \n",
       "\n",
       "                                             description       source  \n",
       "5      Арт. 32494997 \\nОтличная 3-х комнатная квартир...         ЦИАН  \n",
       "7      ЖК Гусарская Баллада, кирпичный дом, огороженн...         ЦИАН  \n",
       "35     Продам квартиру. Ремонт делали для себя из дор...      Домклик  \n",
       "40     Продается однокомнатная квартира с ремонтом, м...      Домклик  \n",
       "48     Код объекта 2840.\\n\\nТрёхкомнатная квартира на...         ЦИАН  \n",
       "...                                                  ...          ...  \n",
       "98750  Квартира подходит под рассрочку КУПИ СЕЙЧАС ПЛ...      Домклик  \n",
       "98759  Продается двухкомнатная квартира № 72 в новост...  Новострой-М  \n",
       "98765  Вашему вниманию предлагается 2-х комнатная ква...      Домклик  \n",
       "98814  Продается просторная, теплая однокомнатная ква...      Домклик  \n",
       "98815  Предлагаем к покупке светлую, просторную еврод...         ЦИАН  \n",
       "\n",
       "[7472 rows x 16 columns]"
      ]
     },
     "execution_count": 65,
     "metadata": {},
     "output_type": "execute_result"
    }
   ],
   "source": [
    "# Отфильтруем таблицу, чтобы вывести все строки с пропусками в признаке district\n",
    "data[data.district.isna()]"
   ]
  },
  {
   "cell_type": "markdown",
   "metadata": {},
   "source": [
    "##### 2.2. Удалим признаки settlement и area"
   ]
  },
  {
   "cell_type": "code",
   "execution_count": 66,
   "metadata": {},
   "outputs": [],
   "source": [
    "data.drop(columns = ['settlement', 'area'], axis = 1, inplace = True)"
   ]
  },
  {
   "cell_type": "code",
   "execution_count": 67,
   "metadata": {},
   "outputs": [
    {
     "data": {
      "text/plain": [
       "district        7.561069\n",
       "postcode        5.208354\n",
       "rooms           4.029467\n",
       "description     0.251968\n",
       "address_name    0.001012\n",
       "dtype: float64"
      ]
     },
     "execution_count": 67,
     "metadata": {},
     "output_type": "execute_result"
    }
   ],
   "source": [
    "# Пропуски в данных\n",
    "series_cols_with_null(data)"
   ]
  },
  {
   "cell_type": "markdown",
   "metadata": {},
   "source": [
    "##### 2.3. Заполним оставшиеся пропуски в признаке district"
   ]
  },
  {
   "cell_type": "code",
   "execution_count": 68,
   "metadata": {},
   "outputs": [],
   "source": [
    "# Заполним пропуски в district сответствующими значениями из признака city\n",
    "data['district'] = data['district'].fillna(data['city'])"
   ]
  },
  {
   "cell_type": "code",
   "execution_count": 69,
   "metadata": {},
   "outputs": [
    {
     "data": {
      "text/plain": [
       "postcode        5.208354\n",
       "rooms           4.029467\n",
       "description     0.251968\n",
       "address_name    0.001012\n",
       "dtype: float64"
      ]
     },
     "execution_count": 69,
     "metadata": {},
     "output_type": "execute_result"
    }
   ],
   "source": [
    "# Пропуски в данных\n",
    "series_cols_with_null(data)"
   ]
  },
  {
   "cell_type": "markdown",
   "metadata": {},
   "source": [
    "##### 2.4. Заполним пропуски в признаке rooms "
   ]
  },
  {
   "cell_type": "code",
   "execution_count": 70,
   "metadata": {},
   "outputs": [
    {
     "data": {
      "text/html": [
       "<div>\n",
       "<style scoped>\n",
       "    .dataframe tbody tr th:only-of-type {\n",
       "        vertical-align: middle;\n",
       "    }\n",
       "\n",
       "    .dataframe tbody tr th {\n",
       "        vertical-align: top;\n",
       "    }\n",
       "\n",
       "    .dataframe thead th {\n",
       "        text-align: right;\n",
       "    }\n",
       "</style>\n",
       "<table border=\"1\" class=\"dataframe\">\n",
       "  <thead>\n",
       "    <tr style=\"text-align: right;\">\n",
       "      <th></th>\n",
       "      <th>product_name</th>\n",
       "      <th>price</th>\n",
       "      <th>postcode</th>\n",
       "      <th>address_name</th>\n",
       "      <th>lat</th>\n",
       "      <th>lon</th>\n",
       "      <th>object_type</th>\n",
       "      <th>total_square</th>\n",
       "      <th>rooms</th>\n",
       "      <th>floor</th>\n",
       "      <th>city</th>\n",
       "      <th>district</th>\n",
       "      <th>description</th>\n",
       "      <th>source</th>\n",
       "    </tr>\n",
       "  </thead>\n",
       "  <tbody>\n",
       "    <tr>\n",
       "      <th>1</th>\n",
       "      <td>Студия, 16,7 м²</td>\n",
       "      <td>3250000</td>\n",
       "      <td>108815.0</td>\n",
       "      <td>Харлампиева, 46</td>\n",
       "      <td>55.551025</td>\n",
       "      <td>37.313054</td>\n",
       "      <td>Квартира</td>\n",
       "      <td>16.70</td>\n",
       "      <td>NaN</td>\n",
       "      <td>1.0</td>\n",
       "      <td>Москва</td>\n",
       "      <td>Филимонковское поселение</td>\n",
       "      <td>ВНИМАНИЕ! ОЧЕНЬ ПРИВЛЕКАТЕЛЬНОЕ ПРЕ...</td>\n",
       "      <td>Домклик</td>\n",
       "    </tr>\n",
       "    <tr>\n",
       "      <th>52</th>\n",
       "      <td>Квартира, 40,5 м²</td>\n",
       "      <td>30142700</td>\n",
       "      <td>107078.0</td>\n",
       "      <td>проспект Академика Сахарова, 11 стр</td>\n",
       "      <td>55.771159</td>\n",
       "      <td>37.643736</td>\n",
       "      <td>Квартира</td>\n",
       "      <td>40.46</td>\n",
       "      <td>NaN</td>\n",
       "      <td>9.0</td>\n",
       "      <td>Москва</td>\n",
       "      <td>Красносельский район</td>\n",
       "      <td>Продаются апартаменты-студия площадью 40,46 кв...</td>\n",
       "      <td>ЦИАН</td>\n",
       "    </tr>\n",
       "    <tr>\n",
       "      <th>101</th>\n",
       "      <td>Студия, 39,8 м²</td>\n",
       "      <td>7000000</td>\n",
       "      <td>143402.0</td>\n",
       "      <td>Жуковского, 11</td>\n",
       "      <td>55.815079</td>\n",
       "      <td>37.325758</td>\n",
       "      <td>Квартира</td>\n",
       "      <td>39.80</td>\n",
       "      <td>NaN</td>\n",
       "      <td>10.0</td>\n",
       "      <td>Красногорск</td>\n",
       "      <td>СГШ м-н</td>\n",
       "      <td>Арт. 28312303 Продается замечательная и просто...</td>\n",
       "      <td>Домклик</td>\n",
       "    </tr>\n",
       "    <tr>\n",
       "      <th>106</th>\n",
       "      <td>Студия, 19,9 м²</td>\n",
       "      <td>5200000</td>\n",
       "      <td>143421.0</td>\n",
       "      <td>Заповедная улица, 10</td>\n",
       "      <td>55.774497</td>\n",
       "      <td>37.235877</td>\n",
       "      <td>Квартира</td>\n",
       "      <td>19.90</td>\n",
       "      <td>NaN</td>\n",
       "      <td>5.0</td>\n",
       "      <td>пос. Ильинское-Усово</td>\n",
       "      <td>пос. Ильинское-Усово</td>\n",
       "      <td>Студия , отделка от застройщика. Заповедная до...</td>\n",
       "      <td>Домклик</td>\n",
       "    </tr>\n",
       "    <tr>\n",
       "      <th>128</th>\n",
       "      <td>Студия, 19,8 м²</td>\n",
       "      <td>4700000</td>\n",
       "      <td>125476.0</td>\n",
       "      <td>улица Василия Петушкова, 9</td>\n",
       "      <td>55.837418</td>\n",
       "      <td>37.403679</td>\n",
       "      <td>Квартира</td>\n",
       "      <td>19.80</td>\n",
       "      <td>NaN</td>\n",
       "      <td>1.0</td>\n",
       "      <td>Москва</td>\n",
       "      <td>Южное Тушино район</td>\n",
       "      <td>На Северо-западе Москвы в экологически чис...</td>\n",
       "      <td>Домклик</td>\n",
       "    </tr>\n",
       "    <tr>\n",
       "      <th>...</th>\n",
       "      <td>...</td>\n",
       "      <td>...</td>\n",
       "      <td>...</td>\n",
       "      <td>...</td>\n",
       "      <td>...</td>\n",
       "      <td>...</td>\n",
       "      <td>...</td>\n",
       "      <td>...</td>\n",
       "      <td>...</td>\n",
       "      <td>...</td>\n",
       "      <td>...</td>\n",
       "      <td>...</td>\n",
       "      <td>...</td>\n",
       "      <td>...</td>\n",
       "    </tr>\n",
       "    <tr>\n",
       "      <th>98707</th>\n",
       "      <td>Студия, 28,4 м²</td>\n",
       "      <td>5550000</td>\n",
       "      <td>108815.0</td>\n",
       "      <td>Жемчужная, 1 к16</td>\n",
       "      <td>55.551251</td>\n",
       "      <td>37.341194</td>\n",
       "      <td>Квартира</td>\n",
       "      <td>28.40</td>\n",
       "      <td>NaN</td>\n",
       "      <td>1.0</td>\n",
       "      <td>пос. Марьино</td>\n",
       "      <td>Филимонковское поселение</td>\n",
       "      <td>МОСКОВСКАЯ ПРОПИСКА!\\nПродаётся теплая квартир...</td>\n",
       "      <td>Домклик</td>\n",
       "    </tr>\n",
       "    <tr>\n",
       "      <th>98716</th>\n",
       "      <td>Квартира, 78,2 м²</td>\n",
       "      <td>35000000</td>\n",
       "      <td>119192.0</td>\n",
       "      <td>Мичуринский проспект, 56</td>\n",
       "      <td>55.695901</td>\n",
       "      <td>37.485901</td>\n",
       "      <td>Квартира</td>\n",
       "      <td>78.20</td>\n",
       "      <td>NaN</td>\n",
       "      <td>45.0</td>\n",
       "      <td>Москва</td>\n",
       "      <td>Раменки район</td>\n",
       "      <td>Продаётся квартира с потрясающими видовыми хар...</td>\n",
       "      <td>ЦИАН</td>\n",
       "    </tr>\n",
       "    <tr>\n",
       "      <th>98762</th>\n",
       "      <td>Студия, 100,1 м²</td>\n",
       "      <td>77500000</td>\n",
       "      <td>125047.0</td>\n",
       "      <td>2-я Брестская улица, 6</td>\n",
       "      <td>55.770896</td>\n",
       "      <td>37.591538</td>\n",
       "      <td>Квартира</td>\n",
       "      <td>100.10</td>\n",
       "      <td>NaN</td>\n",
       "      <td>10.0</td>\n",
       "      <td>Москва</td>\n",
       "      <td>Тверской район</td>\n",
       "      <td>Предлагается квартира студия в новом жилом ком...</td>\n",
       "      <td>Домклик</td>\n",
       "    </tr>\n",
       "    <tr>\n",
       "      <th>98791</th>\n",
       "      <td>Студия, 170 м²</td>\n",
       "      <td>95000000</td>\n",
       "      <td>127051.0</td>\n",
       "      <td>Садовая-Сухаревская улица, 10/12</td>\n",
       "      <td>55.772778</td>\n",
       "      <td>37.627077</td>\n",
       "      <td>Квартира</td>\n",
       "      <td>170.00</td>\n",
       "      <td>NaN</td>\n",
       "      <td>4.0</td>\n",
       "      <td>Москва</td>\n",
       "      <td>Мещанский район</td>\n",
       "      <td>Номер лота: 32292. Предлагается просторная дву...</td>\n",
       "      <td>Домклик</td>\n",
       "    </tr>\n",
       "    <tr>\n",
       "      <th>98795</th>\n",
       "      <td>Студия, 30 м²</td>\n",
       "      <td>6100000</td>\n",
       "      <td>140016.0</td>\n",
       "      <td>Каштановая, 6/2 / 2-й квартал, к56</td>\n",
       "      <td>55.694806</td>\n",
       "      <td>37.955912</td>\n",
       "      <td>Квартира</td>\n",
       "      <td>30.00</td>\n",
       "      <td>NaN</td>\n",
       "      <td>17.0</td>\n",
       "      <td>Люберцы</td>\n",
       "      <td>Самолёт м-н</td>\n",
       "      <td>Арт. 32202950 Продаю квартиру студию в новом ж...</td>\n",
       "      <td>Домклик</td>\n",
       "    </tr>\n",
       "  </tbody>\n",
       "</table>\n",
       "<p>3982 rows × 14 columns</p>\n",
       "</div>"
      ],
      "text/plain": [
       "            product_name     price  postcode  \\\n",
       "1        Студия, 16,7 м²   3250000  108815.0   \n",
       "52     Квартира, 40,5 м²  30142700  107078.0   \n",
       "101      Студия, 39,8 м²   7000000  143402.0   \n",
       "106      Студия, 19,9 м²   5200000  143421.0   \n",
       "128      Студия, 19,8 м²   4700000  125476.0   \n",
       "...                  ...       ...       ...   \n",
       "98707    Студия, 28,4 м²   5550000  108815.0   \n",
       "98716  Квартира, 78,2 м²  35000000  119192.0   \n",
       "98762   Студия, 100,1 м²  77500000  125047.0   \n",
       "98791     Студия, 170 м²  95000000  127051.0   \n",
       "98795      Студия, 30 м²   6100000  140016.0   \n",
       "\n",
       "                              address_name        lat        lon object_type  \\\n",
       "1                          Харлампиева, 46  55.551025  37.313054    Квартира   \n",
       "52     проспект Академика Сахарова, 11 стр  55.771159  37.643736    Квартира   \n",
       "101                         Жуковского, 11  55.815079  37.325758    Квартира   \n",
       "106                   Заповедная улица, 10  55.774497  37.235877    Квартира   \n",
       "128             улица Василия Петушкова, 9  55.837418  37.403679    Квартира   \n",
       "...                                    ...        ...        ...         ...   \n",
       "98707                     Жемчужная, 1 к16  55.551251  37.341194    Квартира   \n",
       "98716             Мичуринский проспект, 56  55.695901  37.485901    Квартира   \n",
       "98762               2-я Брестская улица, 6  55.770896  37.591538    Квартира   \n",
       "98791     Садовая-Сухаревская улица, 10/12  55.772778  37.627077    Квартира   \n",
       "98795   Каштановая, 6/2 / 2-й квартал, к56  55.694806  37.955912    Квартира   \n",
       "\n",
       "       total_square  rooms  floor                  city  \\\n",
       "1             16.70    NaN    1.0                Москва   \n",
       "52            40.46    NaN    9.0                Москва   \n",
       "101           39.80    NaN   10.0           Красногорск   \n",
       "106           19.90    NaN    5.0  пос. Ильинское-Усово   \n",
       "128           19.80    NaN    1.0                Москва   \n",
       "...             ...    ...    ...                   ...   \n",
       "98707         28.40    NaN    1.0          пос. Марьино   \n",
       "98716         78.20    NaN   45.0                Москва   \n",
       "98762        100.10    NaN   10.0                Москва   \n",
       "98791        170.00    NaN    4.0                Москва   \n",
       "98795         30.00    NaN   17.0               Люберцы   \n",
       "\n",
       "                       district  \\\n",
       "1      Филимонковское поселение   \n",
       "52         Красносельский район   \n",
       "101                     СГШ м-н   \n",
       "106        пос. Ильинское-Усово   \n",
       "128          Южное Тушино район   \n",
       "...                         ...   \n",
       "98707  Филимонковское поселение   \n",
       "98716             Раменки район   \n",
       "98762            Тверской район   \n",
       "98791           Мещанский район   \n",
       "98795               Самолёт м-н   \n",
       "\n",
       "                                             description   source  \n",
       "1                 ВНИМАНИЕ! ОЧЕНЬ ПРИВЛЕКАТЕЛЬНОЕ ПРЕ...  Домклик  \n",
       "52     Продаются апартаменты-студия площадью 40,46 кв...     ЦИАН  \n",
       "101    Арт. 28312303 Продается замечательная и просто...  Домклик  \n",
       "106    Студия , отделка от застройщика. Заповедная до...  Домклик  \n",
       "128        На Северо-западе Москвы в экологически чис...  Домклик  \n",
       "...                                                  ...      ...  \n",
       "98707  МОСКОВСКАЯ ПРОПИСКА!\\nПродаётся теплая квартир...  Домклик  \n",
       "98716  Продаётся квартира с потрясающими видовыми хар...     ЦИАН  \n",
       "98762  Предлагается квартира студия в новом жилом ком...  Домклик  \n",
       "98791  Номер лота: 32292. Предлагается просторная дву...  Домклик  \n",
       "98795  Арт. 32202950 Продаю квартиру студию в новом ж...  Домклик  \n",
       "\n",
       "[3982 rows x 14 columns]"
      ]
     },
     "execution_count": 70,
     "metadata": {},
     "output_type": "execute_result"
    }
   ],
   "source": [
    "# Отфильтруем таблицу, чтобы вывести все строки с пропусками в признаке rooms\n",
    "data[data.rooms.isna()]"
   ]
  },
  {
   "cell_type": "markdown",
   "metadata": {},
   "source": [
    "Предположение, что пропущенные строки в признаке rooms принадлежат только квартирам-студиям не подтвердилось. \n",
    "Посмотрим распределение пропущенных строк признака rooms относительно признака product_name"
   ]
  },
  {
   "cell_type": "code",
   "execution_count": 73,
   "metadata": {},
   "outputs": [],
   "source": [
    "def relationship_product_name_for_null_rooms(row: str) -> str:\n",
    "    if 'дия' in row:\n",
    "        return 'Студия'\n",
    "    elif 'ира' in row:\n",
    "        return 'Квартира'"
   ]
  },
  {
   "cell_type": "code",
   "execution_count": 75,
   "metadata": {},
   "outputs": [
    {
     "data": {
      "text/plain": [
       "Студия      3330\n",
       "Квартира     652\n",
       "Name: product_name, dtype: int64"
      ]
     },
     "execution_count": 75,
     "metadata": {},
     "output_type": "execute_result"
    }
   ],
   "source": [
    "relationship=data[data.rooms.isna()].loc[:,'product_name'].apply(relationship_product_name_for_null_rooms)\n",
    "relationship.value_counts()"
   ]
  },
  {
   "cell_type": "markdown",
   "metadata": {},
   "source": [
    "Cтудий намного больше, чем просто квартир. Будем считать, что студия - это 1 комната, поэтому заменим все пропуски в столбце rooms на 1.0"
   ]
  },
  {
   "cell_type": "code",
   "execution_count": 76,
   "metadata": {},
   "outputs": [],
   "source": [
    "data['rooms'] = data['rooms'].fillna(1.0)"
   ]
  },
  {
   "cell_type": "code",
   "execution_count": 77,
   "metadata": {},
   "outputs": [
    {
     "data": {
      "text/plain": [
       "postcode        5.208354\n",
       "description     0.251968\n",
       "address_name    0.001012\n",
       "dtype: float64"
      ]
     },
     "execution_count": 77,
     "metadata": {},
     "output_type": "execute_result"
    }
   ],
   "source": [
    "# Пропуски в данных\n",
    "series_cols_with_null(data)"
   ]
  },
  {
   "cell_type": "markdown",
   "metadata": {},
   "source": [
    "##### 2.5. Обработка признака postcode        "
   ]
  },
  {
   "cell_type": "code",
   "execution_count": 80,
   "metadata": {},
   "outputs": [
    {
     "name": "stdout",
     "output_type": "stream",
     "text": [
      "657\n",
      "397\n"
     ]
    }
   ],
   "source": [
    "# Количество уникальных значений в признаке postcode и district\n",
    "print(data.postcode.nunique())\n",
    "print(data.district.nunique())"
   ]
  },
  {
   "cell_type": "markdown",
   "metadata": {},
   "source": [
    "Обычно индекс привязан к какому-то небольшому району города или к целому поселку. Видим, что число уникальных индексов больше, чем число районов. \n",
    "Поэтому хотелось бы заполнить пропуски и закодировать индексы. "
   ]
  },
  {
   "cell_type": "code",
   "execution_count": 87,
   "metadata": {},
   "outputs": [],
   "source": [
    "from dadata import Dadata\n",
    "token = \"ba1b5a53929e63258ef351bf3cf1285b36ad97db\"\n",
    "dadata = Dadata(token)\n",
    "\n",
    "def reverse_geocoding_postcode (coordinates: pd.Series) -> int:\n",
    "    result = dadata.geolocate(name=\"address\", lat=coordinates.iloc[0], lon=coordinates.iloc[1])\n",
    "    if len(result)!= 0:\n",
    "        if result[0]['data']['postal_code'] != None:\n",
    "            return result[0]['data']['postal_code']\n",
    "        else: \n",
    "            return np.nan\n",
    "    else: \n",
    "        return np.nan"
   ]
  },
  {
   "cell_type": "code",
   "execution_count": 88,
   "metadata": {},
   "outputs": [
    {
     "data": {
      "text/plain": [
       "(5147, 14)"
      ]
     },
     "execution_count": 88,
     "metadata": {},
     "output_type": "execute_result"
    }
   ],
   "source": [
    "postalcode_none_df = data[data['postcode'].isna()]\n",
    "postalcode_none_df.shape"
   ]
  },
  {
   "cell_type": "code",
   "execution_count": 89,
   "metadata": {},
   "outputs": [
    {
     "name": "stderr",
     "output_type": "stream",
     "text": [
      "C:\\Users\\l-pla\\AppData\\Local\\Temp\\ipykernel_9832\\307031046.py:1: SettingWithCopyWarning: \n",
      "A value is trying to be set on a copy of a slice from a DataFrame.\n",
      "Try using .loc[row_indexer,col_indexer] = value instead\n",
      "\n",
      "See the caveats in the documentation: https://pandas.pydata.org/pandas-docs/stable/user_guide/indexing.html#returning-a-view-versus-a-copy\n",
      "  postalcode_none_df['postcode']  = postalcode_none_df.loc[:,['lat','lon']].apply(reverse_geocoding_postcode, axis = 1)\n"
     ]
    },
    {
     "data": {
      "text/plain": [
       "product_name       0\n",
       "price              0\n",
       "postcode        1646\n",
       "address_name       0\n",
       "lat                0\n",
       "lon                0\n",
       "object_type        0\n",
       "total_square       0\n",
       "rooms              0\n",
       "floor              0\n",
       "city               0\n",
       "district           0\n",
       "description        0\n",
       "source             0\n",
       "dtype: int64"
      ]
     },
     "execution_count": 89,
     "metadata": {},
     "output_type": "execute_result"
    }
   ],
   "source": [
    "postalcode_none_df['postcode']  = postalcode_none_df.loc[:,['lat','lon']].apply(reverse_geocoding_postcode, axis = 1)"
   ]
  },
  {
   "cell_type": "code",
   "execution_count": 105,
   "metadata": {},
   "outputs": [
    {
     "data": {
      "text/plain": [
       "1646"
      ]
     },
     "execution_count": 105,
     "metadata": {},
     "output_type": "execute_result"
    }
   ],
   "source": [
    "postalcode_none_df.postcode.isna().sum()"
   ]
  },
  {
   "cell_type": "markdown",
   "metadata": {},
   "source": [
    "К сожалению, не все индексы были определены. Желательно выбрать сервис помощнее.  \n",
    "Тогда для бейзлайна оставшиеся данные заполним предыдущим или последующим значением"
   ]
  },
  {
   "cell_type": "code",
   "execution_count": 109,
   "metadata": {},
   "outputs": [
    {
     "data": {
      "text/plain": [
       "0"
      ]
     },
     "execution_count": 109,
     "metadata": {},
     "output_type": "execute_result"
    }
   ],
   "source": [
    "postalcode_none_df.loc[:,'postcode'] = postalcode_none_df.loc[:,'postcode'].fillna(method = 'ffill')\n",
    "postalcode_none_df.loc[:,'postcode'] = postalcode_none_df.loc[:,'postcode'].fillna(method = 'bfill')\n",
    "postalcode_none_df.loc[:,'postcode'].isna().sum()"
   ]
  },
  {
   "cell_type": "markdown",
   "metadata": {},
   "source": [
    "Возможно для данной задачи лучшим решением было бы оставить пропуски в данных, так как ориентируемся на деревья..."
   ]
  },
  {
   "cell_type": "markdown",
   "metadata": {},
   "source": [
    "Заполним пропуски в исходном датафрейме"
   ]
  },
  {
   "cell_type": "code",
   "execution_count": 113,
   "metadata": {},
   "outputs": [],
   "source": [
    "data.loc[:,'postcode'] = data.loc[:,'postcode'].fillna(postalcode_none_df.loc[:,'postcode'])"
   ]
  },
  {
   "cell_type": "code",
   "execution_count": 114,
   "metadata": {},
   "outputs": [
    {
     "data": {
      "text/plain": [
       "description     0.251968\n",
       "address_name    0.001012\n",
       "dtype: float64"
      ]
     },
     "execution_count": 114,
     "metadata": {},
     "output_type": "execute_result"
    }
   ],
   "source": [
    "# Пропуски в данных\n",
    "series_cols_with_null(data)"
   ]
  },
  {
   "cell_type": "markdown",
   "metadata": {},
   "source": [
    "При помощи dadata можно было заполнить все пропуски в данных, так как пропусков в координатах нет. Однако, в юесплатной версии количество запросов в сутки ограничего 10к запросами. "
   ]
  },
  {
   "cell_type": "markdown",
   "metadata": {},
   "source": [
    "##### 2.6. Обработка признака description "
   ]
  },
  {
   "cell_type": "code",
   "execution_count": 119,
   "metadata": {},
   "outputs": [
    {
     "data": {
      "text/plain": [
       "0        Просторная квартира свободной планировки с пан...\n",
       "1                   ВНИМАНИЕ! ОЧЕНЬ ПРИВЛЕКАТЕЛЬНОЕ ПРЕ...\n",
       "2        Apт.1684018. 0,01% - гибкая ипотека! Воспользу...\n",
       "3        Продается однокомнатная квартира № 381 в новос...\n",
       "4        Шикарное предложение!\\nПродаётся трёхкомнатная...\n",
       "                               ...                        \n",
       "98817    Продаётся 2-комн.квартира площадью 42.00 кв.м ...\n",
       "98818    С 1 октября повышение цен на 5% на апартаменты...\n",
       "98819    Продажа идеальной однокомнатной квартиры. Безу...\n",
       "98820    Новостройка! Евротрешка , две раздельная комна...\n",
       "98821    !Двушка в бизнес-классе с шикарной планировкой...\n",
       "Name: description, Length: 98822, dtype: object"
      ]
     },
     "execution_count": 119,
     "metadata": {},
     "output_type": "execute_result"
    }
   ],
   "source": [
    "data.description"
   ]
  },
  {
   "cell_type": "markdown",
   "metadata": {},
   "source": [
    "Посмотрев на значения ячеек признака description, мне на беглый взгля не удалось выявить какие-либо закономерности в описании. Можно попытаться поработать с данным признаком, но для бейзлайна думаю, это тупиковый путь."
   ]
  },
  {
   "cell_type": "code",
   "execution_count": 120,
   "metadata": {},
   "outputs": [],
   "source": [
    "# Удалим признак description\n",
    "data.drop('description', axis = 1, inplace = True)"
   ]
  },
  {
   "cell_type": "markdown",
   "metadata": {},
   "source": [
    "##### 2.7. Обработка пропуска address_name"
   ]
  },
  {
   "cell_type": "code",
   "execution_count": null,
   "metadata": {},
   "outputs": [],
   "source": [
    "data.loc[:,'address_name'].isna().sum()"
   ]
  },
  {
   "cell_type": "code",
   "execution_count": 122,
   "metadata": {},
   "outputs": [],
   "source": [
    "# В признаке address_name всего один пропуск. ЗАполним его предыдущитм значением\n",
    "data.loc[:,'address_name'] = data.loc[:,'address_name'].fillna(method = 'bfill')"
   ]
  },
  {
   "cell_type": "code",
   "execution_count": 124,
   "metadata": {},
   "outputs": [
    {
     "data": {
      "text/plain": [
       "0"
      ]
     },
     "execution_count": 124,
     "metadata": {},
     "output_type": "execute_result"
    }
   ],
   "source": [
    "data.loc[:,'address_name'].isna().sum()"
   ]
  },
  {
   "cell_type": "markdown",
   "metadata": {},
   "source": [
    "##### 2.8. Обработка признака product_name"
   ]
  },
  {
   "cell_type": "code",
   "execution_count": 134,
   "metadata": {},
   "outputs": [],
   "source": [
    "# Создадим новый признак apart_type\n",
    "data['apart_type'] = data.loc[:,'product_name'].apply(lambda x: x.split()[0].replace(',',''))"
   ]
  },
  {
   "cell_type": "code",
   "execution_count": 136,
   "metadata": {},
   "outputs": [],
   "source": [
    "# Удалим признак product_name\n",
    "data.drop('product_name', axis = 1, inplace = True)"
   ]
  },
  {
   "cell_type": "markdown",
   "metadata": {},
   "source": [
    "##### 2.9. Обработка признака object_type"
   ]
  },
  {
   "cell_type": "code",
   "execution_count": 138,
   "metadata": {},
   "outputs": [
    {
     "data": {
      "text/plain": [
       "1"
      ]
     },
     "execution_count": 138,
     "metadata": {},
     "output_type": "execute_result"
    }
   ],
   "source": [
    "# Посмотрим количество уникальных значений признака object_type\n",
    "data.object_type.nunique()"
   ]
  },
  {
   "cell_type": "code",
   "execution_count": 139,
   "metadata": {},
   "outputs": [],
   "source": [
    "# Удалим признак object_type\n",
    "data.drop('object_type', axis = 1, inplace = True)"
   ]
  },
  {
   "cell_type": "markdown",
   "metadata": {},
   "source": [
    "##### 2.10. Обработка признаков lat и lon"
   ]
  },
  {
   "cell_type": "code",
   "execution_count": 149,
   "metadata": {},
   "outputs": [],
   "source": [
    "# Сами по себе признаки lat и lon неинформативны. При помощи данных признаков посчитаем расттояние от центра Москвы\n",
    "# до интересующего нас объекта недвижимости.\n",
    "\n",
    "def distance_from_the_center(cols: pd.Series) -> float:\n",
    "    R = 6372795 # Earth radius on meter\n",
    "    lat_center_msk = 55.751999\n",
    "    lon_center_msk = 37.617734\n",
    "    d_lat = np.radians(cols[0])-np.radians(lat_center_msk)\n",
    "    d_lon = np.radians(cols[1])-np.radians(lon_center_msk)\n",
    "    return 2*R*np.arcsin(np.sqrt((np.sin(d_lat/2))**2 + np.cos(np.radians(cols[0]))*\n",
    "                                 np.cos(np.radians(lat_center_msk))*np.sin(d_lon/2)**2))"
   ]
  },
  {
   "cell_type": "code",
   "execution_count": 152,
   "metadata": {},
   "outputs": [],
   "source": [
    "data['distance_from_the_center'] = data.loc[:,['lat','lon']].apply(distance_from_the_center, axis = 1)"
   ]
  },
  {
   "cell_type": "code",
   "execution_count": 154,
   "metadata": {},
   "outputs": [],
   "source": [
    "# Удалим признаки lat и lon\n",
    "data.drop(columns = ['lat', 'lon'], axis = 1, inplace = True)"
   ]
  },
  {
   "cell_type": "markdown",
   "metadata": {},
   "source": [
    "#### 3. Кодирование фичей и изменение типов данных"
   ]
  },
  {
   "cell_type": "markdown",
   "metadata": {},
   "source": [
    "##### 3.1. Изменение типов данных"
   ]
  },
  {
   "cell_type": "code",
   "execution_count": 158,
   "metadata": {},
   "outputs": [
    {
     "name": "stdout",
     "output_type": "stream",
     "text": [
      "<class 'pandas.core.frame.DataFrame'>\n",
      "RangeIndex: 98822 entries, 0 to 98821\n",
      "Data columns (total 11 columns):\n",
      " #   Column                    Non-Null Count  Dtype  \n",
      "---  ------                    --------------  -----  \n",
      " 0   price                     98822 non-null  int64  \n",
      " 1   postcode                  98822 non-null  object \n",
      " 2   address_name              98822 non-null  object \n",
      " 3   total_square              98822 non-null  float64\n",
      " 4   rooms                     98822 non-null  float64\n",
      " 5   floor                     98822 non-null  float64\n",
      " 6   city                      98822 non-null  object \n",
      " 7   district                  98822 non-null  object \n",
      " 8   source                    98822 non-null  object \n",
      " 9   apart_type                98822 non-null  object \n",
      " 10  distance_from_the_center  98822 non-null  float64\n",
      "dtypes: float64(4), int64(1), object(6)\n",
      "memory usage: 8.3+ MB\n"
     ]
    }
   ],
   "source": [
    "data.info()"
   ]
  },
  {
   "cell_type": "code",
   "execution_count": 157,
   "metadata": {},
   "outputs": [
    {
     "data": {
      "text/plain": [
       "['price',\n",
       " 'postcode',\n",
       " 'address_name',\n",
       " 'total_square',\n",
       " 'rooms',\n",
       " 'floor',\n",
       " 'city',\n",
       " 'district',\n",
       " 'source',\n",
       " 'apart_type',\n",
       " 'distance_from_the_center']"
      ]
     },
     "execution_count": 157,
     "metadata": {},
     "output_type": "execute_result"
    }
   ],
   "source": [
    "data.columns.to_list()"
   ]
  },
  {
   "cell_type": "code",
   "execution_count": 159,
   "metadata": {},
   "outputs": [],
   "source": [
    "data['total_square'] = data['total_square'].astype('int')\n",
    "data['rooms'] = data['rooms'].astype('int')\n",
    "data['floor'] = data['floor'].astype('int')\n",
    "data['distance_from_the_center'] = data['distance_from_the_center'].astype('int')"
   ]
  },
  {
   "cell_type": "code",
   "execution_count": 160,
   "metadata": {},
   "outputs": [
    {
     "name": "stdout",
     "output_type": "stream",
     "text": [
      "<class 'pandas.core.frame.DataFrame'>\n",
      "RangeIndex: 98822 entries, 0 to 98821\n",
      "Data columns (total 11 columns):\n",
      " #   Column                    Non-Null Count  Dtype \n",
      "---  ------                    --------------  ----- \n",
      " 0   price                     98822 non-null  int64 \n",
      " 1   postcode                  98822 non-null  object\n",
      " 2   address_name              98822 non-null  object\n",
      " 3   total_square              98822 non-null  int32 \n",
      " 4   rooms                     98822 non-null  int32 \n",
      " 5   floor                     98822 non-null  int32 \n",
      " 6   city                      98822 non-null  object\n",
      " 7   district                  98822 non-null  object\n",
      " 8   source                    98822 non-null  object\n",
      " 9   apart_type                98822 non-null  object\n",
      " 10  distance_from_the_center  98822 non-null  int32 \n",
      "dtypes: int32(4), int64(1), object(6)\n",
      "memory usage: 6.8+ MB\n"
     ]
    }
   ],
   "source": [
    "data.info()"
   ]
  },
  {
   "cell_type": "markdown",
   "metadata": {},
   "source": [
    "##### 3.2. Кодирование данных "
   ]
  },
  {
   "cell_type": "code",
   "execution_count": 162,
   "metadata": {},
   "outputs": [],
   "source": [
    "# Скопируем датафрейм до кодирования данных для CatBoost\n",
    "data_cat = data.copy()"
   ]
  },
  {
   "cell_type": "code",
   "execution_count": 163,
   "metadata": {},
   "outputs": [],
   "source": [
    "# Категориальные фичи\n",
    "cat_features_list = ['postcode', 'address_name', 'city', 'district', 'source', 'apart_type']\n",
    "\n",
    "# Числовые фичи\n",
    "nums_features_list = ['total_square', 'rooms', 'floor', 'distance_from_the_center']"
   ]
  },
  {
   "cell_type": "code",
   "execution_count": 164,
   "metadata": {},
   "outputs": [],
   "source": [
    "# Закодируем все категориальные фичи Бинарным кодированием\n",
    "bin_encoder = ce.BinaryEncoder(cols=cat_features_list) \n",
    "type_bin = bin_encoder.fit_transform(data[cat_features_list])\n",
    "data = pd.concat([data, type_bin], axis=1)"
   ]
  },
  {
   "cell_type": "code",
   "execution_count": 167,
   "metadata": {},
   "outputs": [],
   "source": [
    "# Удалим категориальные фичи\n",
    "data.drop(columns = cat_features_list, axis = 1, inplace = True)"
   ]
  },
  {
   "cell_type": "markdown",
   "metadata": {},
   "source": [
    "#### 4. Отбор признаков"
   ]
  },
  {
   "cell_type": "markdown",
   "metadata": {},
   "source": [
    "##### 4.1. Мультиколлинеарность"
   ]
  },
  {
   "cell_type": "code",
   "execution_count": 174,
   "metadata": {},
   "outputs": [
    {
     "data": {
      "text/plain": [
       "<Axes: >"
      ]
     },
     "execution_count": 174,
     "metadata": {},
     "output_type": "execute_result"
    },
    {
     "data": {
      "image/png": "[encoded data removed]",
      "text/plain": [
       "<Figure size 1500x1500 with 2 Axes>"
      ]
     },
     "metadata": {},
     "output_type": "display_data"
    }
   ],
   "source": [
    "plt.rcParams['figure.figsize'] = (15,15)\n",
    "sns.heatmap(data.corr() > 0.9, annot=True, cmap='coolwarm')"
   ]
  },
  {
   "cell_type": "markdown",
   "metadata": {},
   "source": [
    "##### Мультикоррелированных признаков нет"
   ]
  },
  {
   "cell_type": "markdown",
   "metadata": {},
   "source": [
    "##### 4.2. Оценим важность признаков "
   ]
  },
  {
   "cell_type": "code",
   "execution_count": 177,
   "metadata": {},
   "outputs": [
    {
     "data": {
      "text/plain": [
       "<Axes: >"
      ]
     },
     "execution_count": 177,
     "metadata": {},
     "output_type": "execute_result"
    },
    {
     "data": {
      "image/png": "[encoded data removed]",
      "text/plain": [
       "<Figure size 600x600 with 1 Axes>"
      ]
     },
     "metadata": {},
     "output_type": "display_data"
    }
   ],
   "source": [
    "# Оценим значимость числовых признаков, используя тест ANOVA\n",
    "\n",
    "from sklearn.feature_selection import f_classif\n",
    "\n",
    "plt.rcParams['figure.figsize'] = (6,6)\n",
    "importance_num = pd.Series(f_classif(data[nums_features_list], data['price'])[0], index = nums_features_list)\n",
    "importance_num.sort_values(inplace = True)\n",
    "importance_num.plot(kind = 'barh')"
   ]
  },
  {
   "cell_type": "markdown",
   "metadata": {},
   "source": [
    "Предсказуемая картина"
   ]
  },
  {
   "cell_type": "code",
   "execution_count": 182,
   "metadata": {},
   "outputs": [
    {
     "data": {
      "text/plain": [
       "<Axes: >"
      ]
     },
     "execution_count": 182,
     "metadata": {},
     "output_type": "execute_result"
    },
    {
     "data": {
      "image/png": "[encoded data removed]",
      "text/plain": [
       "<Figure size 1000x1000 with 1 Axes>"
      ]
     },
     "metadata": {},
     "output_type": "display_data"
    }
   ],
   "source": [
    "# Оценим значимость категориальных признаков, используя тест Хи-квадрат\n",
    "from sklearn.feature_selection import chi2 \n",
    "\n",
    "cat_features_list = data.columns.to_list()[5:]\n",
    "\n",
    "plt.rcParams['figure.figsize'] = (10,10)\n",
    "importance_cat = pd.Series(chi2(data[cat_features_list], data['price'])[0], index=cat_features_list)\n",
    "importance_cat.sort_values(inplace = True)\n",
    "importance_cat.plot(kind = 'barh')"
   ]
  },
  {
   "cell_type": "markdown",
   "metadata": {},
   "source": [
    "На первой итерации оставим все признаки"
   ]
  },
  {
   "cell_type": "markdown",
   "metadata": {},
   "source": [
    "#### 5. Пострение моделей"
   ]
  },
  {
   "cell_type": "markdown",
   "metadata": {},
   "source": [
    "Предположения:  \n",
    "Если оставить только числовые фичи и построить на них линейную регрессию возможно получится неплохая и очень легкая модель.  \n",
    "Однако, будем оринетироваться на деревья решений, так как по моему предположению \"деревянные модели\" справятся с данной задачей лучше."
   ]
  },
  {
   "cell_type": "markdown",
   "metadata": {},
   "source": [
    "#### 5.1. TPOT"
   ]
  },
  {
   "cell_type": "code",
   "execution_count": 187,
   "metadata": {},
   "outputs": [
    {
     "name": "stdout",
     "output_type": "stream",
     "text": [
      "(74116, 53) (24706, 53) (74116,) (24706,)\n"
     ]
    }
   ],
   "source": [
    "# Х - data, у - target\n",
    "\n",
    "X = data.drop(['price'], axis=1)\n",
    "y = data['price']\n",
    "\n",
    "# train test split \n",
    "X_train, X_test, y_train, y_test = train_test_split(X, y, test_size=0.25, random_state=42)\n",
    "\n",
    "print(X_train.shape, X_test.shape, y_train.shape, y_test.shape)"
   ]
  },
  {
   "cell_type": "code",
   "execution_count": 192,
   "metadata": {},
   "outputs": [
    {
     "data": {
      "text/plain": [
       "0         63000000\n",
       "1          3250000\n",
       "2         16004680\n",
       "3          7841776\n",
       "4        120000000\n",
       "           ...    \n",
       "98817     12183528\n",
       "98818     34925000\n",
       "98819     10000000\n",
       "98820     15999000\n",
       "98821     16750000\n",
       "Name: price, Length: 98822, dtype: int64"
      ]
     },
     "execution_count": 192,
     "metadata": {},
     "output_type": "execute_result"
    }
   ],
   "source": [
    "y\n"
   ]
  },
  {
   "cell_type": "markdown",
   "metadata": {},
   "source": [
    "TPOTRegressor в качестве метрики сравнения моделей использует MSE по уполчанию"
   ]
  },
  {
   "cell_type": "code",
   "execution_count": 191,
   "metadata": {},
   "outputs": [
    {
     "name": "stderr",
     "output_type": "stream",
     "text": [
      "Version 0.11.7 of tpot is outdated. Version 0.12.1 was released 2 days ago.\n"
     ]
    },
    {
     "data": {
      "application/vnd.jupyter.widget-view+json": {
       "model_id": "8414baf21fbb4ce2b4d93a64bb683b30",
       "version_major": 2,
       "version_minor": 0
      },
      "text/plain": [
       "Optimization Progress:   0%|          | 0/300 [00:00<?, ?pipeline/s]"
      ]
     },
     "metadata": {},
     "output_type": "display_data"
    },
    {
     "name": "stdout",
     "output_type": "stream",
     "text": [
      "\n",
      "Generation 1 - Current best internal CV score: -108984461830941.31\n",
      "\n",
      "Generation 2 - Current best internal CV score: -108645018795684.78\n",
      "\n",
      "Generation 3 - Current best internal CV score: -105414692943028.36\n",
      "\n",
      "Generation 4 - Current best internal CV score: -98261388399268.33\n",
      "\n",
      "\n",
      "TPOT closed during evaluation in one generation.\n",
      "WARNING: TPOT may not provide a good pipeline if TPOT is stopped/interrupted in a early generation.\n",
      "\n",
      "\n",
      "TPOT closed prematurely. Will use the current best pipeline.\n",
      "\n",
      "Best pipeline: RandomForestRegressor(SGDRegressor(input_matrix, alpha=0.01, eta0=0.01, fit_intercept=True, l1_ratio=0.5, learning_rate=constant, loss=epsilon_insensitive, penalty=elasticnet, power_t=10.0), bootstrap=True, max_features=0.5, min_samples_leaf=2, min_samples_split=3, n_estimators=100)\n"
     ]
    },
    {
     "name": "stderr",
     "output_type": "stream",
     "text": [
      "c:\\Users\\l-pla\\anaconda3\\envs\\LI\\lib\\site-packages\\sklearn\\metrics\\_scorer.py:794: FutureWarning: sklearn.metrics.SCORERS is deprecated and will be removed in v1.3. Please use sklearn.metrics.get_scorer_names to get a list of available scorers and sklearn.metrics.get_metric to get scorer.\n",
      "  warnings.warn(\n",
      "c:\\Users\\l-pla\\anaconda3\\envs\\LI\\lib\\site-packages\\sklearn\\base.py:439: UserWarning: X does not have valid feature names, but SGDRegressor was fitted with feature names\n",
      "  warnings.warn(\n"
     ]
    },
    {
     "name": "stdout",
     "output_type": "stream",
     "text": [
      "-105225417262880.52\n"
     ]
    }
   ],
   "source": [
    "from tpot import TPOTRegressor\n",
    "\n",
    "tpot = TPOTRegressor(generations=5, population_size=50, verbosity=2, random_state=42)\n",
    "tpot.fit(X_train, y_train)\n",
    "print(tpot.score(X_test, y_test))"
   ]
  }
 ],
 "metadata": {
  "kernelspec": {
   "display_name": "LI",
   "language": "python",
   "name": "python3"
  },
  "language_info": {
   "codemirror_mode": {
    "name": "ipython",
    "version": 3
   },
   "file_extension": ".py",
   "mimetype": "text/x-python",
   "name": "python",
   "nbconvert_exporter": "python",
   "pygments_lexer": "ipython3",
   "version": "3.9.16"
  },
  "orig_nbformat": 4
 },
 "nbformat": 4,
 "nbformat_minor": 2
}
