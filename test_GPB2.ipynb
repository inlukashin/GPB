{
 "cells": [
  {
   "cell_type": "code",
   "execution_count": 1,
   "metadata": {},
   "outputs": [
    {
     "name": "stderr",
     "output_type": "stream",
     "text": [
      "C:\\Users\\l-pla\\AppData\\Local\\Temp\\ipykernel_9988\\3415055798.py:16: MatplotlibDeprecationWarning: The seaborn styles shipped by Matplotlib are deprecated since 3.6, as they no longer correspond to the styles shipped by seaborn. However, they will remain available as 'seaborn-v0_8-<style>'. Alternatively, directly use the seaborn API instead.\n",
      "  plt.style.use('seaborn')\n"
     ]
    }
   ],
   "source": [
    "import numpy as np\n",
    "import pandas as pd\n",
    "import matplotlib.pyplot as plt\n",
    "import seaborn as sns\n",
    "from tqdm.notebook import tqdm\n",
    "\n",
    "from sklearn import preprocessing\n",
    "import category_encoders as ce\n",
    "from sklearn.model_selection import train_test_split\n",
    "from sklearn.ensemble import RandomForestRegressor \n",
    "from sklearn import metrics\n",
    "from sklearn import linear_model\n",
    "from sklearn import model_selection \n",
    "\n",
    "%matplotlib inline\n",
    "plt.style.use('seaborn')"
   ]
  },
  {
   "attachments": {},
   "cell_type": "markdown",
   "metadata": {},
   "source": [
    "#### 1. Загрузка данных"
   ]
  },
  {
   "cell_type": "code",
   "execution_count": 3,
   "metadata": {},
   "outputs": [],
   "source": [
    "path = r'data\\train_data.zip'\n",
    "data = pd.read_csv(path, compression = 'zip')"
   ]
  },
  {
   "cell_type": "code",
   "execution_count": 4,
   "metadata": {},
   "outputs": [
    {
     "data": {
      "text/html": [
       "<div>\n",
       "<style scoped>\n",
       "    .dataframe tbody tr th:only-of-type {\n",
       "        vertical-align: middle;\n",
       "    }\n",
       "\n",
       "    .dataframe tbody tr th {\n",
       "        vertical-align: top;\n",
       "    }\n",
       "\n",
       "    .dataframe thead th {\n",
       "        text-align: right;\n",
       "    }\n",
       "</style>\n",
       "<table border=\"1\" class=\"dataframe\">\n",
       "  <thead>\n",
       "    <tr style=\"text-align: right;\">\n",
       "      <th></th>\n",
       "      <th>product_name</th>\n",
       "      <th>period</th>\n",
       "      <th>price</th>\n",
       "      <th>postcode</th>\n",
       "      <th>address_name</th>\n",
       "      <th>lat</th>\n",
       "      <th>lon</th>\n",
       "      <th>object_type</th>\n",
       "      <th>total_square</th>\n",
       "      <th>rooms</th>\n",
       "      <th>floor</th>\n",
       "      <th>city</th>\n",
       "      <th>settlement</th>\n",
       "      <th>district</th>\n",
       "      <th>area</th>\n",
       "      <th>description</th>\n",
       "      <th>source</th>\n",
       "    </tr>\n",
       "  </thead>\n",
       "  <tbody>\n",
       "    <tr>\n",
       "      <th>0</th>\n",
       "      <td>3-комнатная, 137 м²</td>\n",
       "      <td>NaN</td>\n",
       "      <td>63000000</td>\n",
       "      <td>127473.0</td>\n",
       "      <td>2-й Щемиловский переулок, 5а</td>\n",
       "      <td>55.778894</td>\n",
       "      <td>37.608844</td>\n",
       "      <td>Квартира</td>\n",
       "      <td>137.0</td>\n",
       "      <td>3.0</td>\n",
       "      <td>6.0</td>\n",
       "      <td>Москва</td>\n",
       "      <td>NaN</td>\n",
       "      <td>Тверской район</td>\n",
       "      <td>NaN</td>\n",
       "      <td>Просторная квартира свободной планировки с пан...</td>\n",
       "      <td>ЦИАН</td>\n",
       "    </tr>\n",
       "    <tr>\n",
       "      <th>1</th>\n",
       "      <td>Студия, 16,7 м²</td>\n",
       "      <td>NaN</td>\n",
       "      <td>3250000</td>\n",
       "      <td>108815.0</td>\n",
       "      <td>Харлампиева, 46</td>\n",
       "      <td>55.551025</td>\n",
       "      <td>37.313054</td>\n",
       "      <td>Квартира</td>\n",
       "      <td>16.7</td>\n",
       "      <td>NaN</td>\n",
       "      <td>1.0</td>\n",
       "      <td>Москва</td>\n",
       "      <td>NaN</td>\n",
       "      <td>Филимонковское поселение</td>\n",
       "      <td>NaN</td>\n",
       "      <td>ВНИМАНИЕ! ОЧЕНЬ ПРИВЛЕКАТЕЛЬНОЕ ПРЕ...</td>\n",
       "      <td>Домклик</td>\n",
       "    </tr>\n",
       "    <tr>\n",
       "      <th>2</th>\n",
       "      <td>3-комнатная, 76 м²</td>\n",
       "      <td>NaN</td>\n",
       "      <td>16004680</td>\n",
       "      <td>NaN</td>\n",
       "      <td>ЖК Прокшино, 8 к4</td>\n",
       "      <td>55.594802</td>\n",
       "      <td>37.431264</td>\n",
       "      <td>Квартира</td>\n",
       "      <td>76.0</td>\n",
       "      <td>3.0</td>\n",
       "      <td>6.0</td>\n",
       "      <td>Москва</td>\n",
       "      <td>NaN</td>\n",
       "      <td>Сосенское поселение</td>\n",
       "      <td>NaN</td>\n",
       "      <td>Apт.1684018. 0,01% - гибкая ипотека! Воспользу...</td>\n",
       "      <td>Яндекс.Недвижимость</td>\n",
       "    </tr>\n",
       "    <tr>\n",
       "      <th>3</th>\n",
       "      <td>1-комнатная, 24 м²</td>\n",
       "      <td>NaN</td>\n",
       "      <td>7841776</td>\n",
       "      <td>NaN</td>\n",
       "      <td>ЖК Прокшино, 6 к2</td>\n",
       "      <td>55.594332</td>\n",
       "      <td>37.428099</td>\n",
       "      <td>Квартира</td>\n",
       "      <td>24.0</td>\n",
       "      <td>1.0</td>\n",
       "      <td>10.0</td>\n",
       "      <td>Москва</td>\n",
       "      <td>NaN</td>\n",
       "      <td>Сосенское поселение</td>\n",
       "      <td>NaN</td>\n",
       "      <td>Продается однокомнатная квартира № 381 в новос...</td>\n",
       "      <td>Новострой-М</td>\n",
       "    </tr>\n",
       "    <tr>\n",
       "      <th>4</th>\n",
       "      <td>3-комнатная, 126 м²</td>\n",
       "      <td>NaN</td>\n",
       "      <td>120000000</td>\n",
       "      <td>121352.0</td>\n",
       "      <td>Давыдковская, 18</td>\n",
       "      <td>55.721097</td>\n",
       "      <td>37.464342</td>\n",
       "      <td>Квартира</td>\n",
       "      <td>126.0</td>\n",
       "      <td>3.0</td>\n",
       "      <td>16.0</td>\n",
       "      <td>Москва</td>\n",
       "      <td>NaN</td>\n",
       "      <td>Фили-Давыдково район</td>\n",
       "      <td>NaN</td>\n",
       "      <td>Шикарное предложение!\\nПродаётся трёхкомнатная...</td>\n",
       "      <td>Домклик</td>\n",
       "    </tr>\n",
       "    <tr>\n",
       "      <th>5</th>\n",
       "      <td>3-комнатная, 74 м²</td>\n",
       "      <td>NaN</td>\n",
       "      <td>13300000</td>\n",
       "      <td>142721.0</td>\n",
       "      <td>Пригородное шоссе, 3</td>\n",
       "      <td>55.557342</td>\n",
       "      <td>37.809447</td>\n",
       "      <td>Квартира</td>\n",
       "      <td>74.0</td>\n",
       "      <td>3.0</td>\n",
       "      <td>14.0</td>\n",
       "      <td>NaN</td>\n",
       "      <td>д. Мисайлово</td>\n",
       "      <td>NaN</td>\n",
       "      <td>NaN</td>\n",
       "      <td>Арт. 32494997 \\nОтличная 3-х комнатная квартир...</td>\n",
       "      <td>ЦИАН</td>\n",
       "    </tr>\n",
       "    <tr>\n",
       "      <th>6</th>\n",
       "      <td>2-комнатная, 65 м²</td>\n",
       "      <td>NaN</td>\n",
       "      <td>9500000</td>\n",
       "      <td>143986.0</td>\n",
       "      <td>Автозаводская, 4 к2</td>\n",
       "      <td>55.740408</td>\n",
       "      <td>38.011392</td>\n",
       "      <td>Квартира</td>\n",
       "      <td>65.0</td>\n",
       "      <td>2.0</td>\n",
       "      <td>3.0</td>\n",
       "      <td>Балашиха</td>\n",
       "      <td>NaN</td>\n",
       "      <td>NaN</td>\n",
       "      <td>Железнодорожный м-н</td>\n",
       "      <td>Предлагается к покупке просторная двухкомнатна...</td>\n",
       "      <td>Домклик</td>\n",
       "    </tr>\n",
       "    <tr>\n",
       "      <th>7</th>\n",
       "      <td>3-комнатная, 87 м²</td>\n",
       "      <td>NaN</td>\n",
       "      <td>15000000</td>\n",
       "      <td>143072.0</td>\n",
       "      <td>Михаила Кутузова, 15</td>\n",
       "      <td>55.659569</td>\n",
       "      <td>37.218370</td>\n",
       "      <td>Квартира</td>\n",
       "      <td>87.0</td>\n",
       "      <td>3.0</td>\n",
       "      <td>11.0</td>\n",
       "      <td>NaN</td>\n",
       "      <td>пос. ВНИИССОК</td>\n",
       "      <td>NaN</td>\n",
       "      <td>NaN</td>\n",
       "      <td>ЖК Гусарская Баллада, кирпичный дом, огороженн...</td>\n",
       "      <td>ЦИАН</td>\n",
       "    </tr>\n",
       "    <tr>\n",
       "      <th>8</th>\n",
       "      <td>2-комнатная, 35,8 м²</td>\n",
       "      <td>NaN</td>\n",
       "      <td>7135671</td>\n",
       "      <td>NaN</td>\n",
       "      <td>3-й квартал, к66</td>\n",
       "      <td>55.700571</td>\n",
       "      <td>37.962692</td>\n",
       "      <td>Квартира</td>\n",
       "      <td>35.8</td>\n",
       "      <td>2.0</td>\n",
       "      <td>11.0</td>\n",
       "      <td>Люберцы</td>\n",
       "      <td>NaN</td>\n",
       "      <td>NaN</td>\n",
       "      <td>Самолёт м-н</td>\n",
       "      <td>Продается двухкомнатная квартира № 542 в новос...</td>\n",
       "      <td>Новострой-М</td>\n",
       "    </tr>\n",
       "    <tr>\n",
       "      <th>9</th>\n",
       "      <td>2-комнатная, 68,3 м²</td>\n",
       "      <td>NaN</td>\n",
       "      <td>31500000</td>\n",
       "      <td>127427.0</td>\n",
       "      <td>улица Академика Королёва, 21</td>\n",
       "      <td>55.820044</td>\n",
       "      <td>37.602498</td>\n",
       "      <td>Квартира</td>\n",
       "      <td>68.3</td>\n",
       "      <td>2.0</td>\n",
       "      <td>4.0</td>\n",
       "      <td>Москва</td>\n",
       "      <td>NaN</td>\n",
       "      <td>Марфино район</td>\n",
       "      <td>NaN</td>\n",
       "      <td>Дом ''Достижение'' располагается в Москве в ок...</td>\n",
       "      <td>ЦИАН</td>\n",
       "    </tr>\n",
       "  </tbody>\n",
       "</table>\n",
       "</div>"
      ],
      "text/plain": [
       "           product_name  period      price  postcode  \\\n",
       "0   3-комнатная, 137 м²     NaN   63000000  127473.0   \n",
       "1       Студия, 16,7 м²     NaN    3250000  108815.0   \n",
       "2    3-комнатная, 76 м²     NaN   16004680       NaN   \n",
       "3    1-комнатная, 24 м²     NaN    7841776       NaN   \n",
       "4   3-комнатная, 126 м²     NaN  120000000  121352.0   \n",
       "5    3-комнатная, 74 м²     NaN   13300000  142721.0   \n",
       "6    2-комнатная, 65 м²     NaN    9500000  143986.0   \n",
       "7    3-комнатная, 87 м²     NaN   15000000  143072.0   \n",
       "8  2-комнатная, 35,8 м²     NaN    7135671       NaN   \n",
       "9  2-комнатная, 68,3 м²     NaN   31500000  127427.0   \n",
       "\n",
       "                   address_name        lat        lon object_type  \\\n",
       "0  2-й Щемиловский переулок, 5а  55.778894  37.608844    Квартира   \n",
       "1               Харлампиева, 46  55.551025  37.313054    Квартира   \n",
       "2             ЖК Прокшино, 8 к4  55.594802  37.431264    Квартира   \n",
       "3             ЖК Прокшино, 6 к2  55.594332  37.428099    Квартира   \n",
       "4              Давыдковская, 18  55.721097  37.464342    Квартира   \n",
       "5          Пригородное шоссе, 3  55.557342  37.809447    Квартира   \n",
       "6           Автозаводская, 4 к2  55.740408  38.011392    Квартира   \n",
       "7          Михаила Кутузова, 15  55.659569  37.218370    Квартира   \n",
       "8              3-й квартал, к66  55.700571  37.962692    Квартира   \n",
       "9  улица Академика Королёва, 21  55.820044  37.602498    Квартира   \n",
       "\n",
       "   total_square  rooms  floor      city     settlement  \\\n",
       "0         137.0    3.0    6.0    Москва            NaN   \n",
       "1          16.7    NaN    1.0    Москва            NaN   \n",
       "2          76.0    3.0    6.0    Москва            NaN   \n",
       "3          24.0    1.0   10.0    Москва            NaN   \n",
       "4         126.0    3.0   16.0    Москва            NaN   \n",
       "5          74.0    3.0   14.0       NaN   д. Мисайлово   \n",
       "6          65.0    2.0    3.0  Балашиха            NaN   \n",
       "7          87.0    3.0   11.0       NaN  пос. ВНИИССОК   \n",
       "8          35.8    2.0   11.0   Люберцы            NaN   \n",
       "9          68.3    2.0    4.0    Москва            NaN   \n",
       "\n",
       "                   district                 area  \\\n",
       "0            Тверской район                  NaN   \n",
       "1  Филимонковское поселение                  NaN   \n",
       "2       Сосенское поселение                  NaN   \n",
       "3       Сосенское поселение                  NaN   \n",
       "4      Фили-Давыдково район                  NaN   \n",
       "5                       NaN                  NaN   \n",
       "6                       NaN  Железнодорожный м-н   \n",
       "7                       NaN                  NaN   \n",
       "8                       NaN          Самолёт м-н   \n",
       "9             Марфино район                  NaN   \n",
       "\n",
       "                                         description               source  \n",
       "0  Просторная квартира свободной планировки с пан...                 ЦИАН  \n",
       "1             ВНИМАНИЕ! ОЧЕНЬ ПРИВЛЕКАТЕЛЬНОЕ ПРЕ...              Домклик  \n",
       "2  Apт.1684018. 0,01% - гибкая ипотека! Воспользу...  Яндекс.Недвижимость  \n",
       "3  Продается однокомнатная квартира № 381 в новос...          Новострой-М  \n",
       "4  Шикарное предложение!\\nПродаётся трёхкомнатная...              Домклик  \n",
       "5  Арт. 32494997 \\nОтличная 3-х комнатная квартир...                 ЦИАН  \n",
       "6  Предлагается к покупке просторная двухкомнатна...              Домклик  \n",
       "7  ЖК Гусарская Баллада, кирпичный дом, огороженн...                 ЦИАН  \n",
       "8  Продается двухкомнатная квартира № 542 в новос...          Новострой-М  \n",
       "9  Дом ''Достижение'' располагается в Москве в ок...                 ЦИАН  "
      ]
     },
     "execution_count": 4,
     "metadata": {},
     "output_type": "execute_result"
    }
   ],
   "source": [
    "data.head(10)"
   ]
  },
  {
   "cell_type": "code",
   "execution_count": 5,
   "metadata": {},
   "outputs": [
    {
     "name": "stdout",
     "output_type": "stream",
     "text": [
      "<class 'pandas.core.frame.DataFrame'>\n",
      "RangeIndex: 98822 entries, 0 to 98821\n",
      "Data columns (total 17 columns):\n",
      " #   Column        Non-Null Count  Dtype  \n",
      "---  ------        --------------  -----  \n",
      " 0   product_name  98822 non-null  object \n",
      " 1   period        0 non-null      float64\n",
      " 2   price         98822 non-null  int64  \n",
      " 3   postcode      93675 non-null  float64\n",
      " 4   address_name  98821 non-null  object \n",
      " 5   lat           98822 non-null  float64\n",
      " 6   lon           98822 non-null  float64\n",
      " 7   object_type   98822 non-null  object \n",
      " 8   total_square  98822 non-null  float64\n",
      " 9   rooms         94840 non-null  float64\n",
      " 10  floor         98822 non-null  float64\n",
      " 11  city          91928 non-null  object \n",
      " 12  settlement    6894 non-null   object \n",
      " 13  district      75111 non-null  object \n",
      " 14  area          19498 non-null  object \n",
      " 15  description   98573 non-null  object \n",
      " 16  source        98822 non-null  object \n",
      "dtypes: float64(7), int64(1), object(9)\n",
      "memory usage: 12.8+ MB\n"
     ]
    }
   ],
   "source": [
    "data.info()"
   ]
  },
  {
   "attachments": {},
   "cell_type": "markdown",
   "metadata": {},
   "source": [
    "#### 2. Очистка данных и заполнение пропусков\n"
   ]
  },
  {
   "cell_type": "code",
   "execution_count": 6,
   "metadata": {},
   "outputs": [],
   "source": [
    "# Выведем список признаков с прокусками отсортированный по возрастанию количества пропусков \n",
    "\n",
    "def series_cols_with_null (df: pd.DataFrame) -> pd.Series:\n",
    "    cols_null_percent = df.isnull().mean() * 100\n",
    "    cols_with_null = cols_null_percent[cols_null_percent>0].sort_values(ascending=False)\n",
    "    return cols_with_null"
   ]
  },
  {
   "cell_type": "code",
   "execution_count": 7,
   "metadata": {},
   "outputs": [
    {
     "data": {
      "text/plain": [
       "period          100.000000\n",
       "settlement       93.023821\n",
       "area             80.269576\n",
       "district         23.993645\n",
       "city              6.976179\n",
       "postcode          5.208354\n",
       "rooms             4.029467\n",
       "description       0.251968\n",
       "address_name      0.001012\n",
       "dtype: float64"
      ]
     },
     "execution_count": 7,
     "metadata": {},
     "output_type": "execute_result"
    }
   ],
   "source": [
    "series_cols_with_null(data)"
   ]
  },
  {
   "attachments": {},
   "cell_type": "markdown",
   "metadata": {},
   "source": [
    "##### 2.1. Заполним пропуски в признаках city и settlement"
   ]
  },
  {
   "cell_type": "code",
   "execution_count": 10,
   "metadata": {},
   "outputs": [
    {
     "data": {
      "text/html": [
       "<div>\n",
       "<style scoped>\n",
       "    .dataframe tbody tr th:only-of-type {\n",
       "        vertical-align: middle;\n",
       "    }\n",
       "\n",
       "    .dataframe tbody tr th {\n",
       "        vertical-align: top;\n",
       "    }\n",
       "\n",
       "    .dataframe thead th {\n",
       "        text-align: right;\n",
       "    }\n",
       "</style>\n",
       "<table border=\"1\" class=\"dataframe\">\n",
       "  <thead>\n",
       "    <tr style=\"text-align: right;\">\n",
       "      <th></th>\n",
       "      <th>product_name</th>\n",
       "      <th>period</th>\n",
       "      <th>price</th>\n",
       "      <th>postcode</th>\n",
       "      <th>address_name</th>\n",
       "      <th>lat</th>\n",
       "      <th>lon</th>\n",
       "      <th>object_type</th>\n",
       "      <th>total_square</th>\n",
       "      <th>rooms</th>\n",
       "      <th>floor</th>\n",
       "      <th>city</th>\n",
       "      <th>settlement</th>\n",
       "      <th>district</th>\n",
       "      <th>area</th>\n",
       "      <th>description</th>\n",
       "      <th>source</th>\n",
       "    </tr>\n",
       "  </thead>\n",
       "  <tbody>\n",
       "    <tr>\n",
       "      <th>5</th>\n",
       "      <td>3-комнатная, 74 м²</td>\n",
       "      <td>NaN</td>\n",
       "      <td>13300000</td>\n",
       "      <td>142721.0</td>\n",
       "      <td>Пригородное шоссе, 3</td>\n",
       "      <td>55.557342</td>\n",
       "      <td>37.809447</td>\n",
       "      <td>Квартира</td>\n",
       "      <td>74.0</td>\n",
       "      <td>3.0</td>\n",
       "      <td>14.0</td>\n",
       "      <td>NaN</td>\n",
       "      <td>д. Мисайлово</td>\n",
       "      <td>NaN</td>\n",
       "      <td>NaN</td>\n",
       "      <td>Арт. 32494997 \\nОтличная 3-х комнатная квартир...</td>\n",
       "      <td>ЦИАН</td>\n",
       "    </tr>\n",
       "    <tr>\n",
       "      <th>7</th>\n",
       "      <td>3-комнатная, 87 м²</td>\n",
       "      <td>NaN</td>\n",
       "      <td>15000000</td>\n",
       "      <td>143072.0</td>\n",
       "      <td>Михаила Кутузова, 15</td>\n",
       "      <td>55.659569</td>\n",
       "      <td>37.218370</td>\n",
       "      <td>Квартира</td>\n",
       "      <td>87.0</td>\n",
       "      <td>3.0</td>\n",
       "      <td>11.0</td>\n",
       "      <td>NaN</td>\n",
       "      <td>пос. ВНИИССОК</td>\n",
       "      <td>NaN</td>\n",
       "      <td>NaN</td>\n",
       "      <td>ЖК Гусарская Баллада, кирпичный дом, огороженн...</td>\n",
       "      <td>ЦИАН</td>\n",
       "    </tr>\n",
       "    <tr>\n",
       "      <th>29</th>\n",
       "      <td>3-комнатная, 75 м²</td>\n",
       "      <td>NaN</td>\n",
       "      <td>12500000</td>\n",
       "      <td>142720.0</td>\n",
       "      <td>Южная, 14</td>\n",
       "      <td>55.521080</td>\n",
       "      <td>37.590721</td>\n",
       "      <td>Квартира</td>\n",
       "      <td>75.0</td>\n",
       "      <td>3.0</td>\n",
       "      <td>7.0</td>\n",
       "      <td>NaN</td>\n",
       "      <td>рп. Дрожжино</td>\n",
       "      <td>NaN</td>\n",
       "      <td>Бутово парк 2 м-н</td>\n",
       "      <td>Id 351168. Отличный вариант трехкомнатной квар...</td>\n",
       "      <td>ЦИАН</td>\n",
       "    </tr>\n",
       "    <tr>\n",
       "      <th>35</th>\n",
       "      <td>2-комнатная, 54 м²</td>\n",
       "      <td>NaN</td>\n",
       "      <td>10260000</td>\n",
       "      <td>140060.0</td>\n",
       "      <td>Ленинградская, 15</td>\n",
       "      <td>55.607467</td>\n",
       "      <td>37.980339</td>\n",
       "      <td>Квартира</td>\n",
       "      <td>54.0</td>\n",
       "      <td>2.0</td>\n",
       "      <td>2.0</td>\n",
       "      <td>NaN</td>\n",
       "      <td>рп. Октябрьский</td>\n",
       "      <td>NaN</td>\n",
       "      <td>NaN</td>\n",
       "      <td>Продам квартиру. Ремонт делали для себя из дор...</td>\n",
       "      <td>Домклик</td>\n",
       "    </tr>\n",
       "    <tr>\n",
       "      <th>45</th>\n",
       "      <td>1-комнатная, 38,5 м²</td>\n",
       "      <td>NaN</td>\n",
       "      <td>8300000</td>\n",
       "      <td>143025.0</td>\n",
       "      <td>Связистов, 1</td>\n",
       "      <td>55.723832</td>\n",
       "      <td>37.355074</td>\n",
       "      <td>Квартира</td>\n",
       "      <td>38.5</td>\n",
       "      <td>1.0</td>\n",
       "      <td>8.0</td>\n",
       "      <td>NaN</td>\n",
       "      <td>с. Немчиновка</td>\n",
       "      <td>NaN</td>\n",
       "      <td>Микрорайон Немчиновка жилой комплекс</td>\n",
       "      <td>Агенства и перекупщики не беспокойти пожалуйст...</td>\n",
       "      <td>Домклик</td>\n",
       "    </tr>\n",
       "    <tr>\n",
       "      <th>...</th>\n",
       "      <td>...</td>\n",
       "      <td>...</td>\n",
       "      <td>...</td>\n",
       "      <td>...</td>\n",
       "      <td>...</td>\n",
       "      <td>...</td>\n",
       "      <td>...</td>\n",
       "      <td>...</td>\n",
       "      <td>...</td>\n",
       "      <td>...</td>\n",
       "      <td>...</td>\n",
       "      <td>...</td>\n",
       "      <td>...</td>\n",
       "      <td>...</td>\n",
       "      <td>...</td>\n",
       "      <td>...</td>\n",
       "      <td>...</td>\n",
       "    </tr>\n",
       "    <tr>\n",
       "      <th>98778</th>\n",
       "      <td>1-комнатная, 34 м²</td>\n",
       "      <td>NaN</td>\n",
       "      <td>6200000</td>\n",
       "      <td>142714.0</td>\n",
       "      <td>Ново-Молоковский бульвар, 8</td>\n",
       "      <td>55.562179</td>\n",
       "      <td>37.851657</td>\n",
       "      <td>Квартира</td>\n",
       "      <td>34.0</td>\n",
       "      <td>1.0</td>\n",
       "      <td>7.0</td>\n",
       "      <td>NaN</td>\n",
       "      <td>с. Молоково</td>\n",
       "      <td>NaN</td>\n",
       "      <td>Ново Молоково жилой комплекс</td>\n",
       "      <td>Вашему вниманию предлагается светлая, уютная 1...</td>\n",
       "      <td>Домклик</td>\n",
       "    </tr>\n",
       "    <tr>\n",
       "      <th>98784</th>\n",
       "      <td>2-комнатная, 59,3 м²</td>\n",
       "      <td>NaN</td>\n",
       "      <td>9600000</td>\n",
       "      <td>142720.0</td>\n",
       "      <td>Южная, 9</td>\n",
       "      <td>55.521072</td>\n",
       "      <td>37.584782</td>\n",
       "      <td>Квартира</td>\n",
       "      <td>59.3</td>\n",
       "      <td>2.0</td>\n",
       "      <td>4.0</td>\n",
       "      <td>NaN</td>\n",
       "      <td>рп. Дрожжино</td>\n",
       "      <td>NaN</td>\n",
       "      <td>Бутово парк 2 м-н</td>\n",
       "      <td>Продается 2-комнатная квартира в новом доме в ...</td>\n",
       "      <td>Домклик</td>\n",
       "    </tr>\n",
       "    <tr>\n",
       "      <th>98805</th>\n",
       "      <td>2-комнатная, 64,9 м²</td>\n",
       "      <td>NaN</td>\n",
       "      <td>8700000</td>\n",
       "      <td>142029.0</td>\n",
       "      <td>Творчества, 5 к2</td>\n",
       "      <td>55.473726</td>\n",
       "      <td>37.708870</td>\n",
       "      <td>Квартира</td>\n",
       "      <td>64.9</td>\n",
       "      <td>2.0</td>\n",
       "      <td>13.0</td>\n",
       "      <td>NaN</td>\n",
       "      <td>с. Домодедово</td>\n",
       "      <td>NaN</td>\n",
       "      <td>Домодедово Парк жилой комплекс</td>\n",
       "      <td>Арт. 31095582 Предлагается к продаже двухкомна...</td>\n",
       "      <td>Домклик</td>\n",
       "    </tr>\n",
       "    <tr>\n",
       "      <th>98814</th>\n",
       "      <td>1-комнатная, 40 м²</td>\n",
       "      <td>NaN</td>\n",
       "      <td>6000000</td>\n",
       "      <td>140060.0</td>\n",
       "      <td>60 лет Победы, 10а</td>\n",
       "      <td>55.606092</td>\n",
       "      <td>37.965460</td>\n",
       "      <td>Квартира</td>\n",
       "      <td>40.0</td>\n",
       "      <td>1.0</td>\n",
       "      <td>10.0</td>\n",
       "      <td>NaN</td>\n",
       "      <td>рп. Октябрьский</td>\n",
       "      <td>NaN</td>\n",
       "      <td>NaN</td>\n",
       "      <td>Продается просторная, теплая однокомнатная ква...</td>\n",
       "      <td>Домклик</td>\n",
       "    </tr>\n",
       "    <tr>\n",
       "      <th>98815</th>\n",
       "      <td>2-комнатная, 57 м²</td>\n",
       "      <td>NaN</td>\n",
       "      <td>15500000</td>\n",
       "      <td>143085.0</td>\n",
       "      <td>Медовая улица, 4</td>\n",
       "      <td>55.682986</td>\n",
       "      <td>37.394973</td>\n",
       "      <td>Квартира</td>\n",
       "      <td>57.0</td>\n",
       "      <td>2.0</td>\n",
       "      <td>3.0</td>\n",
       "      <td>NaN</td>\n",
       "      <td>рп. Заречье</td>\n",
       "      <td>NaN</td>\n",
       "      <td>NaN</td>\n",
       "      <td>Предлагаем к покупке светлую, просторную еврод...</td>\n",
       "      <td>ЦИАН</td>\n",
       "    </tr>\n",
       "  </tbody>\n",
       "</table>\n",
       "<p>6894 rows × 17 columns</p>\n",
       "</div>"
      ],
      "text/plain": [
       "               product_name  period     price  postcode  \\\n",
       "5        3-комнатная, 74 м²     NaN  13300000  142721.0   \n",
       "7        3-комнатная, 87 м²     NaN  15000000  143072.0   \n",
       "29       3-комнатная, 75 м²     NaN  12500000  142720.0   \n",
       "35       2-комнатная, 54 м²     NaN  10260000  140060.0   \n",
       "45     1-комнатная, 38,5 м²     NaN   8300000  143025.0   \n",
       "...                     ...     ...       ...       ...   \n",
       "98778    1-комнатная, 34 м²     NaN   6200000  142714.0   \n",
       "98784  2-комнатная, 59,3 м²     NaN   9600000  142720.0   \n",
       "98805  2-комнатная, 64,9 м²     NaN   8700000  142029.0   \n",
       "98814    1-комнатная, 40 м²     NaN   6000000  140060.0   \n",
       "98815    2-комнатная, 57 м²     NaN  15500000  143085.0   \n",
       "\n",
       "                      address_name        lat        lon object_type  \\\n",
       "5             Пригородное шоссе, 3  55.557342  37.809447    Квартира   \n",
       "7             Михаила Кутузова, 15  55.659569  37.218370    Квартира   \n",
       "29                       Южная, 14  55.521080  37.590721    Квартира   \n",
       "35               Ленинградская, 15  55.607467  37.980339    Квартира   \n",
       "45                    Связистов, 1  55.723832  37.355074    Квартира   \n",
       "...                            ...        ...        ...         ...   \n",
       "98778  Ново-Молоковский бульвар, 8  55.562179  37.851657    Квартира   \n",
       "98784                     Южная, 9  55.521072  37.584782    Квартира   \n",
       "98805             Творчества, 5 к2  55.473726  37.708870    Квартира   \n",
       "98814           60 лет Победы, 10а  55.606092  37.965460    Квартира   \n",
       "98815             Медовая улица, 4  55.682986  37.394973    Квартира   \n",
       "\n",
       "       total_square  rooms  floor city       settlement district  \\\n",
       "5              74.0    3.0   14.0  NaN     д. Мисайлово      NaN   \n",
       "7              87.0    3.0   11.0  NaN    пос. ВНИИССОК      NaN   \n",
       "29             75.0    3.0    7.0  NaN     рп. Дрожжино      NaN   \n",
       "35             54.0    2.0    2.0  NaN  рп. Октябрьский      NaN   \n",
       "45             38.5    1.0    8.0  NaN    с. Немчиновка      NaN   \n",
       "...             ...    ...    ...  ...              ...      ...   \n",
       "98778          34.0    1.0    7.0  NaN      с. Молоково      NaN   \n",
       "98784          59.3    2.0    4.0  NaN     рп. Дрожжино      NaN   \n",
       "98805          64.9    2.0   13.0  NaN    с. Домодедово      NaN   \n",
       "98814          40.0    1.0   10.0  NaN  рп. Октябрьский      NaN   \n",
       "98815          57.0    2.0    3.0  NaN      рп. Заречье      NaN   \n",
       "\n",
       "                                       area  \\\n",
       "5                                       NaN   \n",
       "7                                       NaN   \n",
       "29                        Бутово парк 2 м-н   \n",
       "35                                      NaN   \n",
       "45     Микрорайон Немчиновка жилой комплекс   \n",
       "...                                     ...   \n",
       "98778          Ново Молоково жилой комплекс   \n",
       "98784                     Бутово парк 2 м-н   \n",
       "98805        Домодедово Парк жилой комплекс   \n",
       "98814                                   NaN   \n",
       "98815                                   NaN   \n",
       "\n",
       "                                             description   source  \n",
       "5      Арт. 32494997 \\nОтличная 3-х комнатная квартир...     ЦИАН  \n",
       "7      ЖК Гусарская Баллада, кирпичный дом, огороженн...     ЦИАН  \n",
       "29     Id 351168. Отличный вариант трехкомнатной квар...     ЦИАН  \n",
       "35     Продам квартиру. Ремонт делали для себя из дор...  Домклик  \n",
       "45     Агенства и перекупщики не беспокойти пожалуйст...  Домклик  \n",
       "...                                                  ...      ...  \n",
       "98778  Вашему вниманию предлагается светлая, уютная 1...  Домклик  \n",
       "98784  Продается 2-комнатная квартира в новом доме в ...  Домклик  \n",
       "98805  Арт. 31095582 Предлагается к продаже двухкомна...  Домклик  \n",
       "98814  Продается просторная, теплая однокомнатная ква...  Домклик  \n",
       "98815  Предлагаем к покупке светлую, просторную еврод...     ЦИАН  \n",
       "\n",
       "[6894 rows x 17 columns]"
      ]
     },
     "execution_count": 10,
     "metadata": {},
     "output_type": "execute_result"
    }
   ],
   "source": [
    "# Отфильтруем таблицу, чтобы вывести все строки с пропусками в признаке city\n",
    "data[data.loc[:,'city'].isna()]"
   ]
  },
  {
   "cell_type": "code",
   "execution_count": 12,
   "metadata": {},
   "outputs": [
    {
     "data": {
      "text/html": [
       "<div>\n",
       "<style scoped>\n",
       "    .dataframe tbody tr th:only-of-type {\n",
       "        vertical-align: middle;\n",
       "    }\n",
       "\n",
       "    .dataframe tbody tr th {\n",
       "        vertical-align: top;\n",
       "    }\n",
       "\n",
       "    .dataframe thead th {\n",
       "        text-align: right;\n",
       "    }\n",
       "</style>\n",
       "<table border=\"1\" class=\"dataframe\">\n",
       "  <thead>\n",
       "    <tr style=\"text-align: right;\">\n",
       "      <th></th>\n",
       "      <th>product_name</th>\n",
       "      <th>period</th>\n",
       "      <th>price</th>\n",
       "      <th>postcode</th>\n",
       "      <th>address_name</th>\n",
       "      <th>lat</th>\n",
       "      <th>lon</th>\n",
       "      <th>object_type</th>\n",
       "      <th>total_square</th>\n",
       "      <th>rooms</th>\n",
       "      <th>floor</th>\n",
       "      <th>city</th>\n",
       "      <th>settlement</th>\n",
       "      <th>district</th>\n",
       "      <th>area</th>\n",
       "      <th>description</th>\n",
       "      <th>source</th>\n",
       "    </tr>\n",
       "  </thead>\n",
       "  <tbody>\n",
       "    <tr>\n",
       "      <th>0</th>\n",
       "      <td>3-комнатная, 137 м²</td>\n",
       "      <td>NaN</td>\n",
       "      <td>63000000</td>\n",
       "      <td>127473.0</td>\n",
       "      <td>2-й Щемиловский переулок, 5а</td>\n",
       "      <td>55.778894</td>\n",
       "      <td>37.608844</td>\n",
       "      <td>Квартира</td>\n",
       "      <td>137.0</td>\n",
       "      <td>3.0</td>\n",
       "      <td>6.0</td>\n",
       "      <td>Москва</td>\n",
       "      <td>NaN</td>\n",
       "      <td>Тверской район</td>\n",
       "      <td>NaN</td>\n",
       "      <td>Просторная квартира свободной планировки с пан...</td>\n",
       "      <td>ЦИАН</td>\n",
       "    </tr>\n",
       "    <tr>\n",
       "      <th>1</th>\n",
       "      <td>Студия, 16,7 м²</td>\n",
       "      <td>NaN</td>\n",
       "      <td>3250000</td>\n",
       "      <td>108815.0</td>\n",
       "      <td>Харлампиева, 46</td>\n",
       "      <td>55.551025</td>\n",
       "      <td>37.313054</td>\n",
       "      <td>Квартира</td>\n",
       "      <td>16.7</td>\n",
       "      <td>NaN</td>\n",
       "      <td>1.0</td>\n",
       "      <td>Москва</td>\n",
       "      <td>NaN</td>\n",
       "      <td>Филимонковское поселение</td>\n",
       "      <td>NaN</td>\n",
       "      <td>ВНИМАНИЕ! ОЧЕНЬ ПРИВЛЕКАТЕЛЬНОЕ ПРЕ...</td>\n",
       "      <td>Домклик</td>\n",
       "    </tr>\n",
       "    <tr>\n",
       "      <th>2</th>\n",
       "      <td>3-комнатная, 76 м²</td>\n",
       "      <td>NaN</td>\n",
       "      <td>16004680</td>\n",
       "      <td>NaN</td>\n",
       "      <td>ЖК Прокшино, 8 к4</td>\n",
       "      <td>55.594802</td>\n",
       "      <td>37.431264</td>\n",
       "      <td>Квартира</td>\n",
       "      <td>76.0</td>\n",
       "      <td>3.0</td>\n",
       "      <td>6.0</td>\n",
       "      <td>Москва</td>\n",
       "      <td>NaN</td>\n",
       "      <td>Сосенское поселение</td>\n",
       "      <td>NaN</td>\n",
       "      <td>Apт.1684018. 0,01% - гибкая ипотека! Воспользу...</td>\n",
       "      <td>Яндекс.Недвижимость</td>\n",
       "    </tr>\n",
       "    <tr>\n",
       "      <th>3</th>\n",
       "      <td>1-комнатная, 24 м²</td>\n",
       "      <td>NaN</td>\n",
       "      <td>7841776</td>\n",
       "      <td>NaN</td>\n",
       "      <td>ЖК Прокшино, 6 к2</td>\n",
       "      <td>55.594332</td>\n",
       "      <td>37.428099</td>\n",
       "      <td>Квартира</td>\n",
       "      <td>24.0</td>\n",
       "      <td>1.0</td>\n",
       "      <td>10.0</td>\n",
       "      <td>Москва</td>\n",
       "      <td>NaN</td>\n",
       "      <td>Сосенское поселение</td>\n",
       "      <td>NaN</td>\n",
       "      <td>Продается однокомнатная квартира № 381 в новос...</td>\n",
       "      <td>Новострой-М</td>\n",
       "    </tr>\n",
       "    <tr>\n",
       "      <th>4</th>\n",
       "      <td>3-комнатная, 126 м²</td>\n",
       "      <td>NaN</td>\n",
       "      <td>120000000</td>\n",
       "      <td>121352.0</td>\n",
       "      <td>Давыдковская, 18</td>\n",
       "      <td>55.721097</td>\n",
       "      <td>37.464342</td>\n",
       "      <td>Квартира</td>\n",
       "      <td>126.0</td>\n",
       "      <td>3.0</td>\n",
       "      <td>16.0</td>\n",
       "      <td>Москва</td>\n",
       "      <td>NaN</td>\n",
       "      <td>Фили-Давыдково район</td>\n",
       "      <td>NaN</td>\n",
       "      <td>Шикарное предложение!\\nПродаётся трёхкомнатная...</td>\n",
       "      <td>Домклик</td>\n",
       "    </tr>\n",
       "    <tr>\n",
       "      <th>...</th>\n",
       "      <td>...</td>\n",
       "      <td>...</td>\n",
       "      <td>...</td>\n",
       "      <td>...</td>\n",
       "      <td>...</td>\n",
       "      <td>...</td>\n",
       "      <td>...</td>\n",
       "      <td>...</td>\n",
       "      <td>...</td>\n",
       "      <td>...</td>\n",
       "      <td>...</td>\n",
       "      <td>...</td>\n",
       "      <td>...</td>\n",
       "      <td>...</td>\n",
       "      <td>...</td>\n",
       "      <td>...</td>\n",
       "      <td>...</td>\n",
       "    </tr>\n",
       "    <tr>\n",
       "      <th>98817</th>\n",
       "      <td>2-комнатная, 42 м²</td>\n",
       "      <td>NaN</td>\n",
       "      <td>12183528</td>\n",
       "      <td>125212.0</td>\n",
       "      <td>Кронштадтский бульвар, 9 к1/3</td>\n",
       "      <td>55.842935</td>\n",
       "      <td>37.487680</td>\n",
       "      <td>Квартира</td>\n",
       "      <td>42.0</td>\n",
       "      <td>2.0</td>\n",
       "      <td>8.0</td>\n",
       "      <td>Москва</td>\n",
       "      <td>NaN</td>\n",
       "      <td>Головинский район</td>\n",
       "      <td>NaN</td>\n",
       "      <td>Продаётся 2-комн.квартира площадью 42.00 кв.м ...</td>\n",
       "      <td>Яндекс.Недвижимость</td>\n",
       "    </tr>\n",
       "    <tr>\n",
       "      <th>98818</th>\n",
       "      <td>2-комнатная, 63,5 м²</td>\n",
       "      <td>NaN</td>\n",
       "      <td>34925000</td>\n",
       "      <td>129090.0</td>\n",
       "      <td>Олимпийский проспект, вл10</td>\n",
       "      <td>55.777354</td>\n",
       "      <td>37.621747</td>\n",
       "      <td>Квартира</td>\n",
       "      <td>63.5</td>\n",
       "      <td>2.0</td>\n",
       "      <td>3.0</td>\n",
       "      <td>Москва</td>\n",
       "      <td>NaN</td>\n",
       "      <td>Мещанский район</td>\n",
       "      <td>NaN</td>\n",
       "      <td>С 1 октября повышение цен на 5% на апартаменты...</td>\n",
       "      <td>ЦИАН</td>\n",
       "    </tr>\n",
       "    <tr>\n",
       "      <th>98819</th>\n",
       "      <td>1-комнатная, 34,4 м²</td>\n",
       "      <td>NaN</td>\n",
       "      <td>10000000</td>\n",
       "      <td>117534.0</td>\n",
       "      <td>Чертановская улица, 53 к1</td>\n",
       "      <td>55.602124</td>\n",
       "      <td>37.591573</td>\n",
       "      <td>Квартира</td>\n",
       "      <td>34.4</td>\n",
       "      <td>1.0</td>\n",
       "      <td>3.0</td>\n",
       "      <td>Москва</td>\n",
       "      <td>NaN</td>\n",
       "      <td>Чертаново Южное район</td>\n",
       "      <td>NaN</td>\n",
       "      <td>Продажа идеальной однокомнатной квартиры. Безу...</td>\n",
       "      <td>Домклик</td>\n",
       "    </tr>\n",
       "    <tr>\n",
       "      <th>98820</th>\n",
       "      <td>3-комнатная, 56 м²</td>\n",
       "      <td>NaN</td>\n",
       "      <td>15999000</td>\n",
       "      <td>109518.0</td>\n",
       "      <td>1-й Грайвороновский проезд, 3</td>\n",
       "      <td>55.719431</td>\n",
       "      <td>37.724875</td>\n",
       "      <td>Квартира</td>\n",
       "      <td>56.0</td>\n",
       "      <td>3.0</td>\n",
       "      <td>11.0</td>\n",
       "      <td>Москва</td>\n",
       "      <td>NaN</td>\n",
       "      <td>Текстильщики район</td>\n",
       "      <td>NaN</td>\n",
       "      <td>Новостройка! Евротрешка , две раздельная комна...</td>\n",
       "      <td>Домклик</td>\n",
       "    </tr>\n",
       "    <tr>\n",
       "      <th>98821</th>\n",
       "      <td>2-комнатная, 55,1 м²</td>\n",
       "      <td>NaN</td>\n",
       "      <td>16750000</td>\n",
       "      <td>109316.0</td>\n",
       "      <td>Волгоградский проспект, 32/3 к6</td>\n",
       "      <td>55.721245</td>\n",
       "      <td>37.694176</td>\n",
       "      <td>Квартира</td>\n",
       "      <td>55.1</td>\n",
       "      <td>2.0</td>\n",
       "      <td>17.0</td>\n",
       "      <td>Москва</td>\n",
       "      <td>NaN</td>\n",
       "      <td>Южнопортовый район</td>\n",
       "      <td>NaN</td>\n",
       "      <td>!Двушка в бизнес-классе с шикарной планировкой...</td>\n",
       "      <td>ЦИАН</td>\n",
       "    </tr>\n",
       "  </tbody>\n",
       "</table>\n",
       "<p>91928 rows × 17 columns</p>\n",
       "</div>"
      ],
      "text/plain": [
       "               product_name  period      price  postcode  \\\n",
       "0       3-комнатная, 137 м²     NaN   63000000  127473.0   \n",
       "1           Студия, 16,7 м²     NaN    3250000  108815.0   \n",
       "2        3-комнатная, 76 м²     NaN   16004680       NaN   \n",
       "3        1-комнатная, 24 м²     NaN    7841776       NaN   \n",
       "4       3-комнатная, 126 м²     NaN  120000000  121352.0   \n",
       "...                     ...     ...        ...       ...   \n",
       "98817    2-комнатная, 42 м²     NaN   12183528  125212.0   \n",
       "98818  2-комнатная, 63,5 м²     NaN   34925000  129090.0   \n",
       "98819  1-комнатная, 34,4 м²     NaN   10000000  117534.0   \n",
       "98820    3-комнатная, 56 м²     NaN   15999000  109518.0   \n",
       "98821  2-комнатная, 55,1 м²     NaN   16750000  109316.0   \n",
       "\n",
       "                          address_name        lat        lon object_type  \\\n",
       "0         2-й Щемиловский переулок, 5а  55.778894  37.608844    Квартира   \n",
       "1                      Харлампиева, 46  55.551025  37.313054    Квартира   \n",
       "2                    ЖК Прокшино, 8 к4  55.594802  37.431264    Квартира   \n",
       "3                    ЖК Прокшино, 6 к2  55.594332  37.428099    Квартира   \n",
       "4                     Давыдковская, 18  55.721097  37.464342    Квартира   \n",
       "...                                ...        ...        ...         ...   \n",
       "98817    Кронштадтский бульвар, 9 к1/3  55.842935  37.487680    Квартира   \n",
       "98818       Олимпийский проспект, вл10  55.777354  37.621747    Квартира   \n",
       "98819        Чертановская улица, 53 к1  55.602124  37.591573    Квартира   \n",
       "98820    1-й Грайвороновский проезд, 3  55.719431  37.724875    Квартира   \n",
       "98821  Волгоградский проспект, 32/3 к6  55.721245  37.694176    Квартира   \n",
       "\n",
       "       total_square  rooms  floor    city settlement  \\\n",
       "0             137.0    3.0    6.0  Москва        NaN   \n",
       "1              16.7    NaN    1.0  Москва        NaN   \n",
       "2              76.0    3.0    6.0  Москва        NaN   \n",
       "3              24.0    1.0   10.0  Москва        NaN   \n",
       "4             126.0    3.0   16.0  Москва        NaN   \n",
       "...             ...    ...    ...     ...        ...   \n",
       "98817          42.0    2.0    8.0  Москва        NaN   \n",
       "98818          63.5    2.0    3.0  Москва        NaN   \n",
       "98819          34.4    1.0    3.0  Москва        NaN   \n",
       "98820          56.0    3.0   11.0  Москва        NaN   \n",
       "98821          55.1    2.0   17.0  Москва        NaN   \n",
       "\n",
       "                       district area  \\\n",
       "0                Тверской район  NaN   \n",
       "1      Филимонковское поселение  NaN   \n",
       "2           Сосенское поселение  NaN   \n",
       "3           Сосенское поселение  NaN   \n",
       "4          Фили-Давыдково район  NaN   \n",
       "...                         ...  ...   \n",
       "98817         Головинский район  NaN   \n",
       "98818           Мещанский район  NaN   \n",
       "98819     Чертаново Южное район  NaN   \n",
       "98820        Текстильщики район  NaN   \n",
       "98821        Южнопортовый район  NaN   \n",
       "\n",
       "                                             description               source  \n",
       "0      Просторная квартира свободной планировки с пан...                 ЦИАН  \n",
       "1                 ВНИМАНИЕ! ОЧЕНЬ ПРИВЛЕКАТЕЛЬНОЕ ПРЕ...              Домклик  \n",
       "2      Apт.1684018. 0,01% - гибкая ипотека! Воспользу...  Яндекс.Недвижимость  \n",
       "3      Продается однокомнатная квартира № 381 в новос...          Новострой-М  \n",
       "4      Шикарное предложение!\\nПродаётся трёхкомнатная...              Домклик  \n",
       "...                                                  ...                  ...  \n",
       "98817  Продаётся 2-комн.квартира площадью 42.00 кв.м ...  Яндекс.Недвижимость  \n",
       "98818  С 1 октября повышение цен на 5% на апартаменты...                 ЦИАН  \n",
       "98819  Продажа идеальной однокомнатной квартиры. Безу...              Домклик  \n",
       "98820  Новостройка! Евротрешка , две раздельная комна...              Домклик  \n",
       "98821  !Двушка в бизнес-классе с шикарной планировкой...                 ЦИАН  \n",
       "\n",
       "[91928 rows x 17 columns]"
      ]
     },
     "execution_count": 12,
     "metadata": {},
     "output_type": "execute_result"
    }
   ],
   "source": [
    "# Отфильтруем таблицу, чтобы вывести все строки с пропусками в признаке settlement\t\n",
    "data[data.loc[:,'settlement'].isna()]"
   ]
  },
  {
   "cell_type": "markdown",
   "metadata": {},
   "source": [
    "Возможно, что каждому объекту недвижимости соответствует либо признак city либо settlement. Проверми"
   ]
  },
  {
   "cell_type": "code",
   "execution_count": 19,
   "metadata": {},
   "outputs": [
    {
     "name": "stdout",
     "output_type": "stream",
     "text": [
      "Множество пересечений set()\n",
      "True\n"
     ]
    }
   ],
   "source": [
    "# # Множествое объектов, в которых city is np.nan\n",
    "set_apart_null_city = set(data[data.loc[:,'city'].isna()].index.to_list())\n",
    "\n",
    "# # Множествое объектов, в которых settlement is np.nan\n",
    "set_apart_null_settlement = set(data[data.loc[:,'settlement'].isna()].index.to_list())\n",
    "\n",
    "# Проверим есть ли пересечение множеств\n",
    "print(f'Множество пересечений {set_apart_null_city.intersection(set_apart_null_settlement)}')\n",
    "\n",
    "# Проверим, что размер объелинения данных множеств соответствует размерности исходного датасета\n",
    "print(f'{len(set_apart_null_city.union(set_apart_null_settlement)) == data.shape[0]}')"
   ]
  },
  {
   "cell_type": "markdown",
   "metadata": {},
   "source": [
    "Следовательно, наше предположение верно.  \n",
    "Поэтому мы можем оъединить city и settlement в один признак city.  \n",
    "\n",
    "Для признаков district и area применимы те же рассуждения. Следовательно, мы можем объединим и признаки district и area в один признак district."
   ]
  },
  {
   "cell_type": "code",
   "execution_count": 21,
   "metadata": {},
   "outputs": [],
   "source": [
    "data.loc[:,'city'] = data.loc[:,'city'].fillna(data.loc[:,'settlement'])\n",
    "data.loc[:,'district'] = data.loc[:,'district'].fillna(data.loc[:,'area'])"
   ]
  },
  {
   "cell_type": "code",
   "execution_count": 22,
   "metadata": {},
   "outputs": [
    {
     "data": {
      "text/plain": [
       "period          100.000000\n",
       "settlement       93.023821\n",
       "area             80.269576\n",
       "district          7.561069\n",
       "postcode          5.208354\n",
       "rooms             4.029467\n",
       "description       0.251968\n",
       "address_name      0.001012\n",
       "dtype: float64"
      ]
     },
     "execution_count": 22,
     "metadata": {},
     "output_type": "execute_result"
    }
   ],
   "source": [
    "# Пропуски в данных\n",
    "series_cols_with_null(data)"
   ]
  },
  {
   "attachments": {},
   "cell_type": "markdown",
   "metadata": {},
   "source": [
    "##### 2.2. Заполним оставшиеся пропуски в признаке district"
   ]
  },
  {
   "cell_type": "code",
   "execution_count": 23,
   "metadata": {},
   "outputs": [],
   "source": [
    "# Для простоты заполним пропуски в district сответствующими значениями из признака city\n",
    "data.loc[:,'district'] = data.loc[:,'district'].fillna(data.loc[:,'city'])"
   ]
  },
  {
   "cell_type": "code",
   "execution_count": 26,
   "metadata": {},
   "outputs": [
    {
     "data": {
      "text/plain": [
       "period          100.000000\n",
       "settlement       93.023821\n",
       "area             80.269576\n",
       "postcode          5.208354\n",
       "rooms             4.029467\n",
       "description       0.251968\n",
       "address_name      0.001012\n",
       "dtype: float64"
      ]
     },
     "execution_count": 26,
     "metadata": {},
     "output_type": "execute_result"
    }
   ],
   "source": [
    "# Пропуски в данных\n",
    "series_cols_with_null(data)"
   ]
  },
  {
   "attachments": {},
   "cell_type": "markdown",
   "metadata": {},
   "source": [
    "##### 2.3. Заполним пропуски в признаке rooms "
   ]
  },
  {
   "cell_type": "code",
   "execution_count": 27,
   "metadata": {},
   "outputs": [
    {
     "data": {
      "text/html": [
       "<div>\n",
       "<style scoped>\n",
       "    .dataframe tbody tr th:only-of-type {\n",
       "        vertical-align: middle;\n",
       "    }\n",
       "\n",
       "    .dataframe tbody tr th {\n",
       "        vertical-align: top;\n",
       "    }\n",
       "\n",
       "    .dataframe thead th {\n",
       "        text-align: right;\n",
       "    }\n",
       "</style>\n",
       "<table border=\"1\" class=\"dataframe\">\n",
       "  <thead>\n",
       "    <tr style=\"text-align: right;\">\n",
       "      <th></th>\n",
       "      <th>product_name</th>\n",
       "      <th>period</th>\n",
       "      <th>price</th>\n",
       "      <th>postcode</th>\n",
       "      <th>address_name</th>\n",
       "      <th>lat</th>\n",
       "      <th>lon</th>\n",
       "      <th>object_type</th>\n",
       "      <th>total_square</th>\n",
       "      <th>rooms</th>\n",
       "      <th>floor</th>\n",
       "      <th>city</th>\n",
       "      <th>settlement</th>\n",
       "      <th>district</th>\n",
       "      <th>area</th>\n",
       "      <th>description</th>\n",
       "      <th>source</th>\n",
       "    </tr>\n",
       "  </thead>\n",
       "  <tbody>\n",
       "    <tr>\n",
       "      <th>1</th>\n",
       "      <td>Студия, 16,7 м²</td>\n",
       "      <td>NaN</td>\n",
       "      <td>3250000</td>\n",
       "      <td>108815.0</td>\n",
       "      <td>Харлампиева, 46</td>\n",
       "      <td>55.551025</td>\n",
       "      <td>37.313054</td>\n",
       "      <td>Квартира</td>\n",
       "      <td>16.70</td>\n",
       "      <td>NaN</td>\n",
       "      <td>1.0</td>\n",
       "      <td>Москва</td>\n",
       "      <td>NaN</td>\n",
       "      <td>Филимонковское поселение</td>\n",
       "      <td>NaN</td>\n",
       "      <td>ВНИМАНИЕ! ОЧЕНЬ ПРИВЛЕКАТЕЛЬНОЕ ПРЕ...</td>\n",
       "      <td>Домклик</td>\n",
       "    </tr>\n",
       "    <tr>\n",
       "      <th>52</th>\n",
       "      <td>Квартира, 40,5 м²</td>\n",
       "      <td>NaN</td>\n",
       "      <td>30142700</td>\n",
       "      <td>107078.0</td>\n",
       "      <td>проспект Академика Сахарова, 11 стр</td>\n",
       "      <td>55.771159</td>\n",
       "      <td>37.643736</td>\n",
       "      <td>Квартира</td>\n",
       "      <td>40.46</td>\n",
       "      <td>NaN</td>\n",
       "      <td>9.0</td>\n",
       "      <td>Москва</td>\n",
       "      <td>NaN</td>\n",
       "      <td>Красносельский район</td>\n",
       "      <td>NaN</td>\n",
       "      <td>Продаются апартаменты-студия площадью 40,46 кв...</td>\n",
       "      <td>ЦИАН</td>\n",
       "    </tr>\n",
       "    <tr>\n",
       "      <th>101</th>\n",
       "      <td>Студия, 39,8 м²</td>\n",
       "      <td>NaN</td>\n",
       "      <td>7000000</td>\n",
       "      <td>143402.0</td>\n",
       "      <td>Жуковского, 11</td>\n",
       "      <td>55.815079</td>\n",
       "      <td>37.325758</td>\n",
       "      <td>Квартира</td>\n",
       "      <td>39.80</td>\n",
       "      <td>NaN</td>\n",
       "      <td>10.0</td>\n",
       "      <td>Красногорск</td>\n",
       "      <td>NaN</td>\n",
       "      <td>СГШ м-н</td>\n",
       "      <td>СГШ м-н</td>\n",
       "      <td>Арт. 28312303 Продается замечательная и просто...</td>\n",
       "      <td>Домклик</td>\n",
       "    </tr>\n",
       "    <tr>\n",
       "      <th>106</th>\n",
       "      <td>Студия, 19,9 м²</td>\n",
       "      <td>NaN</td>\n",
       "      <td>5200000</td>\n",
       "      <td>143421.0</td>\n",
       "      <td>Заповедная улица, 10</td>\n",
       "      <td>55.774497</td>\n",
       "      <td>37.235877</td>\n",
       "      <td>Квартира</td>\n",
       "      <td>19.90</td>\n",
       "      <td>NaN</td>\n",
       "      <td>5.0</td>\n",
       "      <td>пос. Ильинское-Усово</td>\n",
       "      <td>пос. Ильинское-Усово</td>\n",
       "      <td>пос. Ильинское-Усово</td>\n",
       "      <td>NaN</td>\n",
       "      <td>Студия , отделка от застройщика. Заповедная до...</td>\n",
       "      <td>Домклик</td>\n",
       "    </tr>\n",
       "    <tr>\n",
       "      <th>128</th>\n",
       "      <td>Студия, 19,8 м²</td>\n",
       "      <td>NaN</td>\n",
       "      <td>4700000</td>\n",
       "      <td>125476.0</td>\n",
       "      <td>улица Василия Петушкова, 9</td>\n",
       "      <td>55.837418</td>\n",
       "      <td>37.403679</td>\n",
       "      <td>Квартира</td>\n",
       "      <td>19.80</td>\n",
       "      <td>NaN</td>\n",
       "      <td>1.0</td>\n",
       "      <td>Москва</td>\n",
       "      <td>NaN</td>\n",
       "      <td>Южное Тушино район</td>\n",
       "      <td>NaN</td>\n",
       "      <td>На Северо-западе Москвы в экологически чис...</td>\n",
       "      <td>Домклик</td>\n",
       "    </tr>\n",
       "    <tr>\n",
       "      <th>...</th>\n",
       "      <td>...</td>\n",
       "      <td>...</td>\n",
       "      <td>...</td>\n",
       "      <td>...</td>\n",
       "      <td>...</td>\n",
       "      <td>...</td>\n",
       "      <td>...</td>\n",
       "      <td>...</td>\n",
       "      <td>...</td>\n",
       "      <td>...</td>\n",
       "      <td>...</td>\n",
       "      <td>...</td>\n",
       "      <td>...</td>\n",
       "      <td>...</td>\n",
       "      <td>...</td>\n",
       "      <td>...</td>\n",
       "      <td>...</td>\n",
       "    </tr>\n",
       "    <tr>\n",
       "      <th>98707</th>\n",
       "      <td>Студия, 28,4 м²</td>\n",
       "      <td>NaN</td>\n",
       "      <td>5550000</td>\n",
       "      <td>108815.0</td>\n",
       "      <td>Жемчужная, 1 к16</td>\n",
       "      <td>55.551251</td>\n",
       "      <td>37.341194</td>\n",
       "      <td>Квартира</td>\n",
       "      <td>28.40</td>\n",
       "      <td>NaN</td>\n",
       "      <td>1.0</td>\n",
       "      <td>пос. Марьино</td>\n",
       "      <td>пос. Марьино</td>\n",
       "      <td>Филимонковское поселение</td>\n",
       "      <td>NaN</td>\n",
       "      <td>МОСКОВСКАЯ ПРОПИСКА!\\nПродаётся теплая квартир...</td>\n",
       "      <td>Домклик</td>\n",
       "    </tr>\n",
       "    <tr>\n",
       "      <th>98716</th>\n",
       "      <td>Квартира, 78,2 м²</td>\n",
       "      <td>NaN</td>\n",
       "      <td>35000000</td>\n",
       "      <td>119192.0</td>\n",
       "      <td>Мичуринский проспект, 56</td>\n",
       "      <td>55.695901</td>\n",
       "      <td>37.485901</td>\n",
       "      <td>Квартира</td>\n",
       "      <td>78.20</td>\n",
       "      <td>NaN</td>\n",
       "      <td>45.0</td>\n",
       "      <td>Москва</td>\n",
       "      <td>NaN</td>\n",
       "      <td>Раменки район</td>\n",
       "      <td>NaN</td>\n",
       "      <td>Продаётся квартира с потрясающими видовыми хар...</td>\n",
       "      <td>ЦИАН</td>\n",
       "    </tr>\n",
       "    <tr>\n",
       "      <th>98762</th>\n",
       "      <td>Студия, 100,1 м²</td>\n",
       "      <td>NaN</td>\n",
       "      <td>77500000</td>\n",
       "      <td>125047.0</td>\n",
       "      <td>2-я Брестская улица, 6</td>\n",
       "      <td>55.770896</td>\n",
       "      <td>37.591538</td>\n",
       "      <td>Квартира</td>\n",
       "      <td>100.10</td>\n",
       "      <td>NaN</td>\n",
       "      <td>10.0</td>\n",
       "      <td>Москва</td>\n",
       "      <td>NaN</td>\n",
       "      <td>Тверской район</td>\n",
       "      <td>NaN</td>\n",
       "      <td>Предлагается квартира студия в новом жилом ком...</td>\n",
       "      <td>Домклик</td>\n",
       "    </tr>\n",
       "    <tr>\n",
       "      <th>98791</th>\n",
       "      <td>Студия, 170 м²</td>\n",
       "      <td>NaN</td>\n",
       "      <td>95000000</td>\n",
       "      <td>127051.0</td>\n",
       "      <td>Садовая-Сухаревская улица, 10/12</td>\n",
       "      <td>55.772778</td>\n",
       "      <td>37.627077</td>\n",
       "      <td>Квартира</td>\n",
       "      <td>170.00</td>\n",
       "      <td>NaN</td>\n",
       "      <td>4.0</td>\n",
       "      <td>Москва</td>\n",
       "      <td>NaN</td>\n",
       "      <td>Мещанский район</td>\n",
       "      <td>NaN</td>\n",
       "      <td>Номер лота: 32292. Предлагается просторная дву...</td>\n",
       "      <td>Домклик</td>\n",
       "    </tr>\n",
       "    <tr>\n",
       "      <th>98795</th>\n",
       "      <td>Студия, 30 м²</td>\n",
       "      <td>NaN</td>\n",
       "      <td>6100000</td>\n",
       "      <td>140016.0</td>\n",
       "      <td>Каштановая, 6/2 / 2-й квартал, к56</td>\n",
       "      <td>55.694806</td>\n",
       "      <td>37.955912</td>\n",
       "      <td>Квартира</td>\n",
       "      <td>30.00</td>\n",
       "      <td>NaN</td>\n",
       "      <td>17.0</td>\n",
       "      <td>Люберцы</td>\n",
       "      <td>NaN</td>\n",
       "      <td>Самолёт м-н</td>\n",
       "      <td>Самолёт м-н</td>\n",
       "      <td>Арт. 32202950 Продаю квартиру студию в новом ж...</td>\n",
       "      <td>Домклик</td>\n",
       "    </tr>\n",
       "  </tbody>\n",
       "</table>\n",
       "<p>3982 rows × 17 columns</p>\n",
       "</div>"
      ],
      "text/plain": [
       "            product_name  period     price  postcode  \\\n",
       "1        Студия, 16,7 м²     NaN   3250000  108815.0   \n",
       "52     Квартира, 40,5 м²     NaN  30142700  107078.0   \n",
       "101      Студия, 39,8 м²     NaN   7000000  143402.0   \n",
       "106      Студия, 19,9 м²     NaN   5200000  143421.0   \n",
       "128      Студия, 19,8 м²     NaN   4700000  125476.0   \n",
       "...                  ...     ...       ...       ...   \n",
       "98707    Студия, 28,4 м²     NaN   5550000  108815.0   \n",
       "98716  Квартира, 78,2 м²     NaN  35000000  119192.0   \n",
       "98762   Студия, 100,1 м²     NaN  77500000  125047.0   \n",
       "98791     Студия, 170 м²     NaN  95000000  127051.0   \n",
       "98795      Студия, 30 м²     NaN   6100000  140016.0   \n",
       "\n",
       "                              address_name        lat        lon object_type  \\\n",
       "1                          Харлампиева, 46  55.551025  37.313054    Квартира   \n",
       "52     проспект Академика Сахарова, 11 стр  55.771159  37.643736    Квартира   \n",
       "101                         Жуковского, 11  55.815079  37.325758    Квартира   \n",
       "106                   Заповедная улица, 10  55.774497  37.235877    Квартира   \n",
       "128             улица Василия Петушкова, 9  55.837418  37.403679    Квартира   \n",
       "...                                    ...        ...        ...         ...   \n",
       "98707                     Жемчужная, 1 к16  55.551251  37.341194    Квартира   \n",
       "98716             Мичуринский проспект, 56  55.695901  37.485901    Квартира   \n",
       "98762               2-я Брестская улица, 6  55.770896  37.591538    Квартира   \n",
       "98791     Садовая-Сухаревская улица, 10/12  55.772778  37.627077    Квартира   \n",
       "98795   Каштановая, 6/2 / 2-й квартал, к56  55.694806  37.955912    Квартира   \n",
       "\n",
       "       total_square  rooms  floor                  city            settlement  \\\n",
       "1             16.70    NaN    1.0                Москва                   NaN   \n",
       "52            40.46    NaN    9.0                Москва                   NaN   \n",
       "101           39.80    NaN   10.0           Красногорск                   NaN   \n",
       "106           19.90    NaN    5.0  пос. Ильинское-Усово  пос. Ильинское-Усово   \n",
       "128           19.80    NaN    1.0                Москва                   NaN   \n",
       "...             ...    ...    ...                   ...                   ...   \n",
       "98707         28.40    NaN    1.0          пос. Марьино          пос. Марьино   \n",
       "98716         78.20    NaN   45.0                Москва                   NaN   \n",
       "98762        100.10    NaN   10.0                Москва                   NaN   \n",
       "98791        170.00    NaN    4.0                Москва                   NaN   \n",
       "98795         30.00    NaN   17.0               Люберцы                   NaN   \n",
       "\n",
       "                       district         area  \\\n",
       "1      Филимонковское поселение          NaN   \n",
       "52         Красносельский район          NaN   \n",
       "101                     СГШ м-н      СГШ м-н   \n",
       "106        пос. Ильинское-Усово          NaN   \n",
       "128          Южное Тушино район          NaN   \n",
       "...                         ...          ...   \n",
       "98707  Филимонковское поселение          NaN   \n",
       "98716             Раменки район          NaN   \n",
       "98762            Тверской район          NaN   \n",
       "98791           Мещанский район          NaN   \n",
       "98795               Самолёт м-н  Самолёт м-н   \n",
       "\n",
       "                                             description   source  \n",
       "1                 ВНИМАНИЕ! ОЧЕНЬ ПРИВЛЕКАТЕЛЬНОЕ ПРЕ...  Домклик  \n",
       "52     Продаются апартаменты-студия площадью 40,46 кв...     ЦИАН  \n",
       "101    Арт. 28312303 Продается замечательная и просто...  Домклик  \n",
       "106    Студия , отделка от застройщика. Заповедная до...  Домклик  \n",
       "128        На Северо-западе Москвы в экологически чис...  Домклик  \n",
       "...                                                  ...      ...  \n",
       "98707  МОСКОВСКАЯ ПРОПИСКА!\\nПродаётся теплая квартир...  Домклик  \n",
       "98716  Продаётся квартира с потрясающими видовыми хар...     ЦИАН  \n",
       "98762  Предлагается квартира студия в новом жилом ком...  Домклик  \n",
       "98791  Номер лота: 32292. Предлагается просторная дву...  Домклик  \n",
       "98795  Арт. 32202950 Продаю квартиру студию в новом ж...  Домклик  \n",
       "\n",
       "[3982 rows x 17 columns]"
      ]
     },
     "execution_count": 27,
     "metadata": {},
     "output_type": "execute_result"
    }
   ],
   "source": [
    "# Отфильтруем таблицу, чтобы вывести все строки с пропусками в признаке rooms\n",
    "data[data.loc[:,'rooms'].isna()]"
   ]
  },
  {
   "attachments": {},
   "cell_type": "markdown",
   "metadata": {},
   "source": [
    "Предположение, что пропущенные строки в признаке rooms принадлежат только квартирам-студиям не подтвердилось. \n",
    "Посмотрим распределение пропущенных строк признака rooms относительно признака product_name"
   ]
  },
  {
   "cell_type": "code",
   "execution_count": 28,
   "metadata": {},
   "outputs": [],
   "source": [
    "def relationship_product_name_for_null_rooms(row: str) -> str:\n",
    "    if 'дия' in row:\n",
    "        return 'Студия'\n",
    "    elif 'ира' in row:\n",
    "        return 'Квартира'"
   ]
  },
  {
   "cell_type": "code",
   "execution_count": 29,
   "metadata": {},
   "outputs": [
    {
     "data": {
      "text/plain": [
       "Студия      3330\n",
       "Квартира     652\n",
       "Name: product_name, dtype: int64"
      ]
     },
     "execution_count": 29,
     "metadata": {},
     "output_type": "execute_result"
    }
   ],
   "source": [
    "relationship = data[data.loc[:,'rooms'].isna()].loc[:,'product_name'].apply(relationship_product_name_for_null_rooms)\n",
    "relationship.value_counts()"
   ]
  },
  {
   "attachments": {},
   "cell_type": "markdown",
   "metadata": {},
   "source": [
    "Cтудий намного больше, чем просто квартир.  \n",
    "Снова для простоты будем считать, что студия - это 1 комната, поэтому заменим все пропуски в столбце rooms на 1.0"
   ]
  },
  {
   "cell_type": "code",
   "execution_count": 30,
   "metadata": {},
   "outputs": [],
   "source": [
    "data.loc[:,'rooms'] = data.loc[:,'rooms'].fillna(1.0)"
   ]
  },
  {
   "cell_type": "code",
   "execution_count": 31,
   "metadata": {},
   "outputs": [
    {
     "data": {
      "text/plain": [
       "period          100.000000\n",
       "settlement       93.023821\n",
       "area             80.269576\n",
       "postcode          5.208354\n",
       "description       0.251968\n",
       "address_name      0.001012\n",
       "dtype: float64"
      ]
     },
     "execution_count": 31,
     "metadata": {},
     "output_type": "execute_result"
    }
   ],
   "source": [
    "# Пропуски в данных\n",
    "series_cols_with_null(data)"
   ]
  },
  {
   "attachments": {},
   "cell_type": "markdown",
   "metadata": {},
   "source": [
    "##### 2.4. Обработка признака postcode        "
   ]
  },
  {
   "cell_type": "code",
   "execution_count": 32,
   "metadata": {},
   "outputs": [
    {
     "name": "stdout",
     "output_type": "stream",
     "text": [
      "657\n",
      "397\n"
     ]
    }
   ],
   "source": [
    "# Количество уникальных значений в признаке postcode и district\n",
    "print(data.loc[:,'postcode'].nunique())\n",
    "print(data.loc[:,'district'].nunique())"
   ]
  },
  {
   "attachments": {},
   "cell_type": "markdown",
   "metadata": {},
   "source": [
    "Обычно индекс привязан к какому-то небольшому району города или к целому поселку.  \n",
    "Видим, что число уникальных индексов больше, чем число районов. \n",
    "Поэтому хотелось бы заполнить пропуски и закодировать индексы. "
   ]
  },
  {
   "cell_type": "code",
   "execution_count": 33,
   "metadata": {},
   "outputs": [],
   "source": [
    "# Для этого воспользуемся сервисом DaData и проведем обратное геокодирование. \n",
    "# Т е по координатам определим почтовый индекс дома.\n",
    "\n",
    "# from dadata import Dadata\n",
    "# token = \"c222d559ea7785b09de4e2e39cbe56f2c5e2c3e5\"\n",
    "# dadata = Dadata(token)\n",
    "\n",
    "# def reverse_geocoding_postcode (coordinates: pd.Series) -> int:\n",
    "#     result = dadata.geolocate(name=\"address\", lat=coordinates.iloc[0], lon=coordinates.iloc[1])\n",
    "#     if len(result)!= 0:\n",
    "#         if result[0]['data']['postal_code'] != None:\n",
    "#             return result[0]['data']['postal_code']\n",
    "#         else: \n",
    "#             return np.nan\n",
    "#     else: \n",
    "#         return np.nan"
   ]
  },
  {
   "cell_type": "code",
   "execution_count": 34,
   "metadata": {},
   "outputs": [
    {
     "data": {
      "text/plain": [
       "(5147, 17)"
      ]
     },
     "execution_count": 34,
     "metadata": {},
     "output_type": "execute_result"
    }
   ],
   "source": [
    "# postalcode_none_df = data[data.loc[:,'postcode'].isna()]\n",
    "# postalcode_none_df.shape"
   ]
  },
  {
   "cell_type": "code",
   "execution_count": 35,
   "metadata": {},
   "outputs": [
    {
     "name": "stderr",
     "output_type": "stream",
     "text": [
      "C:\\Users\\l-pla\\AppData\\Local\\Temp\\ipykernel_9988\\3763407452.py:2: SettingWithCopyWarning: \n",
      "A value is trying to be set on a copy of a slice from a DataFrame.\n",
      "Try using .loc[row_indexer,col_indexer] = value instead\n",
      "\n",
      "See the caveats in the documentation: https://pandas.pydata.org/pandas-docs/stable/user_guide/indexing.html#returning-a-view-versus-a-copy\n",
      "  postalcode_none_df.loc[:,'postcode']  = postalcode_none_df.loc[:,['lat','lon']].apply(reverse_geocoding_postcode, axis = 1)\n"
     ]
    }
   ],
   "source": [
    "# Заполним np.nan в признаке postcode данными, полученными из сервиса DaData\n",
    "# postalcode_none_df.loc[:,'postcode']  = postalcode_none_df.loc[:,['lat','lon']].apply(reverse_geocoding_postcode, axis = 1)"
   ]
  },
  {
   "cell_type": "code",
   "execution_count": 36,
   "metadata": {},
   "outputs": [
    {
     "data": {
      "text/plain": [
       "1646"
      ]
     },
     "execution_count": 36,
     "metadata": {},
     "output_type": "execute_result"
    }
   ],
   "source": [
    "# Количество np.nan после заполнения\n",
    "# postalcode_none_df.loc[:,'postcode'].isna().sum()"
   ]
  },
  {
   "attachments": {},
   "cell_type": "markdown",
   "metadata": {},
   "source": [
    "К сожалению, не все индексы были определены. Желательно выбрать сервис помощнее (платный).  \n",
    "В качестве бейзлайна оставшиеся данные заполним предыдущими или последующими значениями."
   ]
  },
  {
   "cell_type": "code",
   "execution_count": 37,
   "metadata": {},
   "outputs": [
    {
     "name": "stderr",
     "output_type": "stream",
     "text": [
      "C:\\Users\\l-pla\\AppData\\Local\\Temp\\ipykernel_9988\\900698504.py:1: SettingWithCopyWarning: \n",
      "A value is trying to be set on a copy of a slice from a DataFrame.\n",
      "Try using .loc[row_indexer,col_indexer] = value instead\n",
      "\n",
      "See the caveats in the documentation: https://pandas.pydata.org/pandas-docs/stable/user_guide/indexing.html#returning-a-view-versus-a-copy\n",
      "  postalcode_none_df.loc[:,'postcode'] = postalcode_none_df.loc[:,'postcode'].fillna(method = 'ffill')\n",
      "C:\\Users\\l-pla\\AppData\\Local\\Temp\\ipykernel_9988\\900698504.py:2: SettingWithCopyWarning: \n",
      "A value is trying to be set on a copy of a slice from a DataFrame.\n",
      "Try using .loc[row_indexer,col_indexer] = value instead\n",
      "\n",
      "See the caveats in the documentation: https://pandas.pydata.org/pandas-docs/stable/user_guide/indexing.html#returning-a-view-versus-a-copy\n",
      "  postalcode_none_df.loc[:,'postcode'] = postalcode_none_df.loc[:,'postcode'].fillna(method = 'bfill')\n"
     ]
    },
    {
     "data": {
      "text/plain": [
       "0"
      ]
     },
     "execution_count": 37,
     "metadata": {},
     "output_type": "execute_result"
    }
   ],
   "source": [
    "# postalcode_none_df.loc[:,'postcode'] = postalcode_none_df.loc[:,'postcode'].fillna(method = 'ffill')\n",
    "# postalcode_none_df.loc[:,'postcode'] = postalcode_none_df.loc[:,'postcode'].fillna(method = 'bfill')\n",
    "# postalcode_none_df.loc[:,'postcode'].isna().sum()"
   ]
  },
  {
   "attachments": {},
   "cell_type": "markdown",
   "metadata": {},
   "source": [
    "Заполним пропуски в исходном датафрейме"
   ]
  },
  {
   "cell_type": "code",
   "execution_count": 38,
   "metadata": {},
   "outputs": [],
   "source": [
    "# data.loc[:,'postcode'] = data.loc[:,'postcode'].fillna(postalcode_none_df.loc[:,'postcode'])"
   ]
  },
  {
   "cell_type": "code",
   "execution_count": 39,
   "metadata": {},
   "outputs": [
    {
     "data": {
      "text/plain": [
       "period          100.000000\n",
       "settlement       93.023821\n",
       "area             80.269576\n",
       "description       0.251968\n",
       "address_name      0.001012\n",
       "dtype: float64"
      ]
     },
     "execution_count": 39,
     "metadata": {},
     "output_type": "execute_result"
    }
   ],
   "source": [
    "# Пропуски в данных\n",
    "# series_cols_with_null(data)"
   ]
  },
  {
   "cell_type": "markdown",
   "metadata": {},
   "source": [
    "Сохраним фрейм и загрузим его с пк. Это сделано потому после 10к обращений в день сервер перестает отвечать.  \n",
    "Предыдущую функцию закомментим. "
   ]
  },
  {
   "cell_type": "code",
   "execution_count": 46,
   "metadata": {},
   "outputs": [],
   "source": [
    "# Сохраним датафрейм\n",
    "# data.to_csv(r'data\\data_with_dadata.csv', index = False)"
   ]
  },
  {
   "cell_type": "code",
   "execution_count": 51,
   "metadata": {},
   "outputs": [],
   "source": [
    "# Загрузим даафрейм в переменную data\n",
    "data = pd.read_csv(r'data\\data_with_dadata.csv')"
   ]
  },
  {
   "attachments": {},
   "cell_type": "markdown",
   "metadata": {},
   "source": [
    "При помощи dadata можно было заполнить все пропуски в данных, так как пропусков в координатах нет. Однако, в бесплатной версии количество запросов в сутки ограничего 10к запросами, поэтому заполнил только часть."
   ]
  },
  {
   "attachments": {},
   "cell_type": "markdown",
   "metadata": {},
   "source": [
    "##### 2.5. Обработка признака description "
   ]
  },
  {
   "cell_type": "code",
   "execution_count": 55,
   "metadata": {},
   "outputs": [
    {
     "data": {
      "text/plain": [
       "'Просторная квартира свободной планировки с панорамным остеклением: 5 окон от пола до потолка, 3 балкона, из каждого окна можно выйти на балкон. Окна квартиры выходят во внутренний двор, что обеспечивает достаточную тишину даже с открытыми окнами. В ЖК Махаон имеется трехуровневый подземный паркинг на 120 машиномест, собственная закрытая и круглосуточно охраняемая территория. В наличии есть 1 машиноместо. На первых трех этажах находятся: фитнесс центр с бассейном, салон красоты, детский сад. Прилегающая территория озеленена, во дворе детская площадка. 5 минут до метро Новослободская пешком.'"
      ]
     },
     "execution_count": 55,
     "metadata": {},
     "output_type": "execute_result"
    }
   ],
   "source": [
    "data.loc[:,'description'][0]"
   ]
  },
  {
   "attachments": {},
   "cell_type": "markdown",
   "metadata": {},
   "source": [
    "Посмотрев на значения ячеек признака description, мне на беглый взгляД не удалось выявить какие-либо закономерности в описании. Можно попытаться поработать с данным признаком как с текстом и применить различные обработчики текста, но думаю, это тупиковый путь по крайне мере для бейзлайна."
   ]
  },
  {
   "attachments": {},
   "cell_type": "markdown",
   "metadata": {},
   "source": [
    "##### 2.6. Обработка пропуска address_name"
   ]
  },
  {
   "cell_type": "code",
   "execution_count": 56,
   "metadata": {},
   "outputs": [
    {
     "data": {
      "text/plain": [
       "1"
      ]
     },
     "execution_count": 56,
     "metadata": {},
     "output_type": "execute_result"
    }
   ],
   "source": [
    "# Количество пропусков в признаке address_name\n",
    "data.loc[:,'address_name'].isna().sum()"
   ]
  },
  {
   "cell_type": "code",
   "execution_count": 59,
   "metadata": {},
   "outputs": [
    {
     "data": {
      "text/plain": [
       "0"
      ]
     },
     "execution_count": 59,
     "metadata": {},
     "output_type": "execute_result"
    }
   ],
   "source": [
    "# В признаке address_name всего один пропуск. Заполним его предыдущим значением\n",
    "data.loc[:,'address_name'] = data.loc[:,'address_name'].fillna(method = 'bfill')\n",
    "\n",
    "# Количество пропусков в признаке address_name\n",
    "data.loc[:,'address_name'].isna().sum()"
   ]
  },
  {
   "attachments": {},
   "cell_type": "markdown",
   "metadata": {},
   "source": [
    "##### 2.7. Обработка признака product_name"
   ]
  },
  {
   "cell_type": "code",
   "execution_count": 60,
   "metadata": {},
   "outputs": [],
   "source": [
    "# Создадим новый признак apart_type и заполнием его типом объекта недвижимости из признака product_name\n",
    "data['apart_type'] = data.loc[:,'product_name'].apply(lambda x: x.split()[0].replace(',',''))"
   ]
  },
  {
   "attachments": {},
   "cell_type": "markdown",
   "metadata": {},
   "source": [
    "##### 2.8. Обработка признака object_type"
   ]
  },
  {
   "cell_type": "code",
   "execution_count": 61,
   "metadata": {},
   "outputs": [
    {
     "data": {
      "text/plain": [
       "1"
      ]
     },
     "execution_count": 61,
     "metadata": {},
     "output_type": "execute_result"
    }
   ],
   "source": [
    "# Посмотрим количество уникальных значений признака object_type\n",
    "data.loc[:,'object_type'].nunique()"
   ]
  },
  {
   "attachments": {},
   "cell_type": "markdown",
   "metadata": {},
   "source": [
    "##### 2.9. Обработка признаков lat и lon"
   ]
  },
  {
   "cell_type": "code",
   "execution_count": 62,
   "metadata": {},
   "outputs": [],
   "source": [
    "# Сами по себе признаки lat и lon неинформативны. Но при помощи данных признаков посчитаем расттояние от центра Москвы\n",
    "# до интересующего нас объекта недвижимости.\n",
    "\n",
    "def distance_from_the_center(cols: pd.Series) -> float:\n",
    "    R = 6372795 # Earth radius on meter\n",
    "    lat_center_msk = 55.751999\n",
    "    lon_center_msk = 37.617734\n",
    "    d_lat = np.radians(cols[0])-np.radians(lat_center_msk)\n",
    "    d_lon = np.radians(cols[1])-np.radians(lon_center_msk)\n",
    "    return 2*R*np.arcsin(np.sqrt((np.sin(d_lat/2))**2 + np.cos(np.radians(cols[0]))*\n",
    "                                 np.cos(np.radians(lat_center_msk))*np.sin(d_lon/2)**2))"
   ]
  },
  {
   "cell_type": "code",
   "execution_count": 63,
   "metadata": {},
   "outputs": [],
   "source": [
    "data['distance_from_the_center'] = data.loc[:,['lat','lon']].apply(distance_from_the_center, axis = 1)"
   ]
  },
  {
   "attachments": {},
   "cell_type": "markdown",
   "metadata": {},
   "source": [
    "#### 3. Кодирование фичей и изменение типов данных"
   ]
  },
  {
   "attachments": {},
   "cell_type": "markdown",
   "metadata": {},
   "source": [
    "##### 3.1. Изменение типов данных"
   ]
  },
  {
   "cell_type": "code",
   "execution_count": 64,
   "metadata": {},
   "outputs": [
    {
     "name": "stdout",
     "output_type": "stream",
     "text": [
      "<class 'pandas.core.frame.DataFrame'>\n",
      "RangeIndex: 98822 entries, 0 to 98821\n",
      "Data columns (total 19 columns):\n",
      " #   Column                    Non-Null Count  Dtype  \n",
      "---  ------                    --------------  -----  \n",
      " 0   product_name              98822 non-null  object \n",
      " 1   period                    0 non-null      float64\n",
      " 2   price                     98822 non-null  int64  \n",
      " 3   postcode                  98822 non-null  float64\n",
      " 4   address_name              98822 non-null  object \n",
      " 5   lat                       98822 non-null  float64\n",
      " 6   lon                       98822 non-null  float64\n",
      " 7   object_type               98822 non-null  object \n",
      " 8   total_square              98822 non-null  float64\n",
      " 9   rooms                     98822 non-null  float64\n",
      " 10  floor                     98822 non-null  float64\n",
      " 11  city                      98822 non-null  object \n",
      " 12  settlement                6894 non-null   object \n",
      " 13  district                  98822 non-null  object \n",
      " 14  area                      19498 non-null  object \n",
      " 15  description               98573 non-null  object \n",
      " 16  source                    98822 non-null  object \n",
      " 17  apart_type                98822 non-null  object \n",
      " 18  distance_from_the_center  98822 non-null  float64\n",
      "dtypes: float64(8), int64(1), object(10)\n",
      "memory usage: 14.3+ MB\n"
     ]
    }
   ],
   "source": [
    "data.info()"
   ]
  },
  {
   "cell_type": "code",
   "execution_count": 65,
   "metadata": {},
   "outputs": [
    {
     "data": {
      "text/plain": [
       "['product_name',\n",
       " 'period',\n",
       " 'price',\n",
       " 'postcode',\n",
       " 'address_name',\n",
       " 'lat',\n",
       " 'lon',\n",
       " 'object_type',\n",
       " 'total_square',\n",
       " 'rooms',\n",
       " 'floor',\n",
       " 'city',\n",
       " 'settlement',\n",
       " 'district',\n",
       " 'area',\n",
       " 'description',\n",
       " 'source',\n",
       " 'apart_type',\n",
       " 'distance_from_the_center']"
      ]
     },
     "execution_count": 65,
     "metadata": {},
     "output_type": "execute_result"
    }
   ],
   "source": [
    "data.columns.to_list()"
   ]
  },
  {
   "cell_type": "code",
   "execution_count": 66,
   "metadata": {},
   "outputs": [
    {
     "name": "stderr",
     "output_type": "stream",
     "text": [
      "C:\\Users\\l-pla\\AppData\\Local\\Temp\\ipykernel_9988\\298162893.py:1: DeprecationWarning: In a future version, `df.iloc[:, i] = newvals` will attempt to set the values inplace instead of always setting a new array. To retain the old behavior, use either `df[df.columns[i]] = newvals` or, if columns are non-unique, `df.isetitem(i, newvals)`\n",
      "  data.loc[:,'total_square'] = data.loc[:,'total_square'].astype('int')\n",
      "C:\\Users\\l-pla\\AppData\\Local\\Temp\\ipykernel_9988\\298162893.py:2: DeprecationWarning: In a future version, `df.iloc[:, i] = newvals` will attempt to set the values inplace instead of always setting a new array. To retain the old behavior, use either `df[df.columns[i]] = newvals` or, if columns are non-unique, `df.isetitem(i, newvals)`\n",
      "  data.loc[:,'rooms'] = data.loc[:,'rooms'].astype('int')\n",
      "C:\\Users\\l-pla\\AppData\\Local\\Temp\\ipykernel_9988\\298162893.py:3: DeprecationWarning: In a future version, `df.iloc[:, i] = newvals` will attempt to set the values inplace instead of always setting a new array. To retain the old behavior, use either `df[df.columns[i]] = newvals` or, if columns are non-unique, `df.isetitem(i, newvals)`\n",
      "  data.loc[:,'floor'] = data.loc[:,'floor'].astype('int')\n",
      "C:\\Users\\l-pla\\AppData\\Local\\Temp\\ipykernel_9988\\298162893.py:4: DeprecationWarning: In a future version, `df.iloc[:, i] = newvals` will attempt to set the values inplace instead of always setting a new array. To retain the old behavior, use either `df[df.columns[i]] = newvals` or, if columns are non-unique, `df.isetitem(i, newvals)`\n",
      "  data.loc[:,'distance_from_the_center'] = data.loc[:,'distance_from_the_center'].astype('int')\n"
     ]
    }
   ],
   "source": [
    "data.loc[:,'total_square'] = data.loc[:,'total_square'].astype('int')\n",
    "data.loc[:,'rooms'] = data.loc[:,'rooms'].astype('int')\n",
    "data.loc[:,'floor'] = data.loc[:,'floor'].astype('int')\n",
    "data.loc[:,'distance_from_the_center'] = data.loc[:,'distance_from_the_center'].astype('int')"
   ]
  },
  {
   "cell_type": "code",
   "execution_count": 67,
   "metadata": {},
   "outputs": [
    {
     "name": "stdout",
     "output_type": "stream",
     "text": [
      "<class 'pandas.core.frame.DataFrame'>\n",
      "RangeIndex: 98822 entries, 0 to 98821\n",
      "Data columns (total 19 columns):\n",
      " #   Column                    Non-Null Count  Dtype  \n",
      "---  ------                    --------------  -----  \n",
      " 0   product_name              98822 non-null  object \n",
      " 1   period                    0 non-null      float64\n",
      " 2   price                     98822 non-null  int64  \n",
      " 3   postcode                  98822 non-null  float64\n",
      " 4   address_name              98822 non-null  object \n",
      " 5   lat                       98822 non-null  float64\n",
      " 6   lon                       98822 non-null  float64\n",
      " 7   object_type               98822 non-null  object \n",
      " 8   total_square              98822 non-null  int32  \n",
      " 9   rooms                     98822 non-null  int32  \n",
      " 10  floor                     98822 non-null  int32  \n",
      " 11  city                      98822 non-null  object \n",
      " 12  settlement                6894 non-null   object \n",
      " 13  district                  98822 non-null  object \n",
      " 14  area                      19498 non-null  object \n",
      " 15  description               98573 non-null  object \n",
      " 16  source                    98822 non-null  object \n",
      " 17  apart_type                98822 non-null  object \n",
      " 18  distance_from_the_center  98822 non-null  int32  \n",
      "dtypes: float64(4), int32(4), int64(1), object(10)\n",
      "memory usage: 12.8+ MB\n"
     ]
    }
   ],
   "source": [
    "data.info()"
   ]
  },
  {
   "attachments": {},
   "cell_type": "markdown",
   "metadata": {},
   "source": [
    "##### 3.2. Кодирование данных "
   ]
  },
  {
   "cell_type": "code",
   "execution_count": 69,
   "metadata": {},
   "outputs": [],
   "source": [
    "# Выберем категориальные фичи для кодирования\n",
    "cat_features_list = ['postcode', 'address_name', 'city', 'district', 'source', 'apart_type']\n",
    "\n",
    "# Выберем числовые фичи\n",
    "nums_features_list = ['total_square', 'rooms', 'floor', 'distance_from_the_center']"
   ]
  },
  {
   "cell_type": "code",
   "execution_count": 70,
   "metadata": {},
   "outputs": [],
   "source": [
    "# Закодируем все категориальные фичи Бинарным кодированием\n",
    "bin_encoder = ce.BinaryEncoder(cols=cat_features_list) \n",
    "type_bin = bin_encoder.fit_transform(data[cat_features_list])\n",
    "data = pd.concat([data, type_bin], axis=1)"
   ]
  },
  {
   "attachments": {},
   "cell_type": "markdown",
   "metadata": {},
   "source": [
    "#### 4. Отбор признаков"
   ]
  },
  {
   "cell_type": "markdown",
   "metadata": {},
   "source": [
    "##### 4.1. Удаление признаков"
   ]
  },
  {
   "cell_type": "code",
   "execution_count": 71,
   "metadata": {},
   "outputs": [
    {
     "name": "stdout",
     "output_type": "stream",
     "text": [
      "<class 'pandas.core.frame.DataFrame'>\n",
      "RangeIndex: 98822 entries, 0 to 98821\n",
      "Data columns (total 54 columns):\n",
      " #   Column                    Non-Null Count  Dtype\n",
      "---  ------                    --------------  -----\n",
      " 0   price                     98822 non-null  int64\n",
      " 1   total_square              98822 non-null  int32\n",
      " 2   rooms                     98822 non-null  int32\n",
      " 3   floor                     98822 non-null  int32\n",
      " 4   distance_from_the_center  98822 non-null  int32\n",
      " 5   postcode_0                98822 non-null  int64\n",
      " 6   postcode_1                98822 non-null  int64\n",
      " 7   postcode_2                98822 non-null  int64\n",
      " 8   postcode_3                98822 non-null  int64\n",
      " 9   postcode_4                98822 non-null  int64\n",
      " 10  postcode_5                98822 non-null  int64\n",
      " 11  postcode_6                98822 non-null  int64\n",
      " 12  postcode_7                98822 non-null  int64\n",
      " 13  postcode_8                98822 non-null  int64\n",
      " 14  postcode_9                98822 non-null  int64\n",
      " 15  address_name_0            98822 non-null  int64\n",
      " 16  address_name_1            98822 non-null  int64\n",
      " 17  address_name_2            98822 non-null  int64\n",
      " 18  address_name_3            98822 non-null  int64\n",
      " 19  address_name_4            98822 non-null  int64\n",
      " 20  address_name_5            98822 non-null  int64\n",
      " 21  address_name_6            98822 non-null  int64\n",
      " 22  address_name_7            98822 non-null  int64\n",
      " 23  address_name_8            98822 non-null  int64\n",
      " 24  address_name_9            98822 non-null  int64\n",
      " 25  address_name_10           98822 non-null  int64\n",
      " 26  address_name_11           98822 non-null  int64\n",
      " 27  address_name_12           98822 non-null  int64\n",
      " 28  address_name_13           98822 non-null  int64\n",
      " 29  address_name_14           98822 non-null  int64\n",
      " 30  city_0                    98822 non-null  int64\n",
      " 31  city_1                    98822 non-null  int64\n",
      " 32  city_2                    98822 non-null  int64\n",
      " 33  city_3                    98822 non-null  int64\n",
      " 34  city_4                    98822 non-null  int64\n",
      " 35  city_5                    98822 non-null  int64\n",
      " 36  city_6                    98822 non-null  int64\n",
      " 37  district_0                98822 non-null  int64\n",
      " 38  district_1                98822 non-null  int64\n",
      " 39  district_2                98822 non-null  int64\n",
      " 40  district_3                98822 non-null  int64\n",
      " 41  district_4                98822 non-null  int64\n",
      " 42  district_5                98822 non-null  int64\n",
      " 43  district_6                98822 non-null  int64\n",
      " 44  district_7                98822 non-null  int64\n",
      " 45  district_8                98822 non-null  int64\n",
      " 46  source_0                  98822 non-null  int64\n",
      " 47  source_1                  98822 non-null  int64\n",
      " 48  source_2                  98822 non-null  int64\n",
      " 49  apart_type_0              98822 non-null  int64\n",
      " 50  apart_type_1              98822 non-null  int64\n",
      " 51  apart_type_2              98822 non-null  int64\n",
      " 52  apart_type_3              98822 non-null  int64\n",
      " 53  apart_type_4              98822 non-null  int64\n",
      "dtypes: int32(4), int64(50)\n",
      "memory usage: 39.2 MB\n"
     ]
    }
   ],
   "source": [
    "# Удалим признаки, которые стали неинформативными в ходе обработки признаков. \n",
    "# А также закодированные категориальные признаки\n",
    "data.drop(columns = ['settlement', 'area', 'period', 'description', 'product_name', \n",
    "                    'object_type', 'lat', 'lon'], axis = 1, inplace = True)\n",
    "data.drop(columns = cat_features_list, axis = 1, inplace = True)\n",
    "data.info()"
   ]
  },
  {
   "attachments": {},
   "cell_type": "markdown",
   "metadata": {},
   "source": [
    "##### 4.2. Мультиколлинеарность"
   ]
  },
  {
   "cell_type": "code",
   "execution_count": 72,
   "metadata": {},
   "outputs": [
    {
     "data": {
      "text/plain": [
       "<Axes: >"
      ]
     },
     "execution_count": 72,
     "metadata": {},
     "output_type": "execute_result"
    },
    {
     "data": {
      "image/png": "[encoded data removed]",
      "text/plain": [
       "<Figure size 1500x1500 with 2 Axes>"
      ]
     },
     "metadata": {},
     "output_type": "display_data"
    }
   ],
   "source": [
    "# Изобразим heatmap мультиколлинеарности признаков\n",
    "plt.rcParams['figure.figsize'] = (15,15)\n",
    "sns.heatmap(data.corr() > 0.9, annot=True, cmap='coolwarm')"
   ]
  },
  {
   "attachments": {},
   "cell_type": "markdown",
   "metadata": {},
   "source": [
    "Мультикоррелированных признаков нет"
   ]
  },
  {
   "attachments": {},
   "cell_type": "markdown",
   "metadata": {},
   "source": [
    "##### 4.3. Оценим важность признаков "
   ]
  },
  {
   "cell_type": "code",
   "execution_count": 73,
   "metadata": {},
   "outputs": [
    {
     "data": {
      "text/plain": [
       "<Axes: >"
      ]
     },
     "execution_count": 73,
     "metadata": {},
     "output_type": "execute_result"
    },
    {
     "data": {
      "image/png": "[encoded data removed]",
      "text/plain": [
       "<Figure size 600x600 with 1 Axes>"
      ]
     },
     "metadata": {},
     "output_type": "display_data"
    }
   ],
   "source": [
    "# Оценим значимость числовых признаков, используя тест ANOVA\n",
    "from sklearn.feature_selection import f_classif\n",
    "\n",
    "plt.rcParams['figure.figsize'] = (6,6)\n",
    "importance_num = pd.Series(f_classif(data[nums_features_list], data.loc[:,'price'])[0], index = nums_features_list)\n",
    "importance_num.sort_values(inplace = True)\n",
    "importance_num.plot(kind = 'barh')"
   ]
  },
  {
   "attachments": {},
   "cell_type": "markdown",
   "metadata": {},
   "source": [
    "Предсказуемая картина"
   ]
  },
  {
   "cell_type": "code",
   "execution_count": 77,
   "metadata": {},
   "outputs": [
    {
     "data": {
      "text/plain": [
       "<Axes: >"
      ]
     },
     "execution_count": 77,
     "metadata": {},
     "output_type": "execute_result"
    },
    {
     "data": {
      "image/png": "[encoded data removed]",
      "text/plain": [
       "<Figure size 1000x1000 with 1 Axes>"
      ]
     },
     "metadata": {},
     "output_type": "display_data"
    }
   ],
   "source": [
    "# Оценим значимость категориальных признаков, используя тест Хи-квадрат\n",
    "from sklearn.feature_selection import chi2 \n",
    "\n",
    "cat_features_list = data.columns.to_list()[5:]\n",
    "\n",
    "plt.rcParams['figure.figsize'] = (10,10)\n",
    "importance_cat = pd.Series(chi2(data[cat_features_list], data.loc[:,'price'])[0], index=cat_features_list)\n",
    "importance_cat.sort_values(inplace = True)\n",
    "importance_cat.plot(kind = 'barh')"
   ]
  },
  {
   "attachments": {},
   "cell_type": "markdown",
   "metadata": {},
   "source": [
    "На первой итерации оставим все признаки"
   ]
  },
  {
   "attachments": {},
   "cell_type": "markdown",
   "metadata": {},
   "source": [
    "#### 5. Пострение модели"
   ]
  },
  {
   "attachments": {},
   "cell_type": "markdown",
   "metadata": {},
   "source": [
    "Предположения:  \n",
    "Думаю, для решения данной задачи лучше всего подходит RandomForest.  \n",
    "Поэтому чтобы не тратить время на обучение заведомо плохих (линейная регрессия) и тяжелых моделей будет обучать только RandomForest."
   ]
  },
  {
   "attachments": {},
   "cell_type": "markdown",
   "metadata": {},
   "source": [
    "##### 5.1. Подготовка данных для модели"
   ]
  },
  {
   "cell_type": "code",
   "execution_count": 78,
   "metadata": {},
   "outputs": [],
   "source": [
    "X = data.drop(['price'], axis=1)\n",
    "y = data['price']"
   ]
  },
  {
   "cell_type": "code",
   "execution_count": 79,
   "metadata": {},
   "outputs": [
    {
     "data": {
      "text/plain": [
       "((98822, 53), (74116, 53), (24706, 53))"
      ]
     },
     "execution_count": 79,
     "metadata": {},
     "output_type": "execute_result"
    }
   ],
   "source": [
    "# Разделяем тренинговый датасет: 75% на обучение, 25% на валидацию\n",
    "X_train, X_test, y_train, y_test = train_test_split(X, y, test_size=0.25, random_state=42)\n",
    "\n",
    "# Проверяем размерности получившихся датасетов\n",
    "X.shape, X_train.shape, X_test.shape"
   ]
  },
  {
   "attachments": {},
   "cell_type": "markdown",
   "metadata": {},
   "source": [
    "##### 5.2. Построение и оценка модели RandomForestRegressor"
   ]
  },
  {
   "cell_type": "code",
   "execution_count": null,
   "metadata": {},
   "outputs": [],
   "source": [
    "# Создаём модель\n",
    "regr = RandomForestRegressor(n_estimators=100, verbose=1, n_jobs=-1, random_state=42)\n",
    "\n",
    "# Обучаем модель на тестовом наборе данных  \n",
    "regr.fit(X_train, y_train) \n",
    "\n",
    "# Предсказаваем значения и записываем в переменную y_pred  \n",
    "y_pred = regr.predict(X_test)  \n"
   ]
  },
  {
   "cell_type": "code",
   "execution_count": 85,
   "metadata": {},
   "outputs": [
    {
     "name": "stdout",
     "output_type": "stream",
     "text": [
      "MAPE: 0.096\n",
      "MAE: 2879159.0\n"
     ]
    }
   ],
   "source": [
    "# Рассчитаем метрику MAPE\n",
    "print(f'MAPE: {round(metrics.mean_absolute_percentage_error(y_test, y_pred),4)}')\n",
    "\n",
    "# Рассчитаем метрику MAE\n",
    "print(f'MAE: {round(metrics.mean_absolute_error(y_test, y_pred),0)}')"
   ]
  },
  {
   "cell_type": "code",
   "execution_count": 89,
   "metadata": {},
   "outputs": [
    {
     "data": {
      "text/plain": [
       "<Axes: >"
      ]
     },
     "execution_count": 89,
     "metadata": {},
     "output_type": "execute_result"
    },
    {
     "data": {
      "image/png": "[encoded data removed]",
      "text/plain": [
       "<Figure size 600x600 with 1 Axes>"
      ]
     },
     "metadata": {},
     "output_type": "display_data"
    }
   ],
   "source": [
    "# Выведем самые важные признаки для модели\n",
    "plt.rcParams['figure.figsize'] = (6,6)\n",
    "feat_importances = pd.Series(regr.feature_importances_, index=X.columns)\n",
    "feat_importances.nlargest(15).plot(kind='barh')"
   ]
  },
  {
   "attachments": {},
   "cell_type": "markdown",
   "metadata": {},
   "source": [
    "Видим, что созданный нами признак distance_from_the_center оказался одним из самых ценных для модели (успех).  \n",
    "Однако остальные не очень важные в сравнении. \n"
   ]
  },
  {
   "cell_type": "markdown",
   "metadata": {},
   "source": [
    "Судя по данной гистограмме можно было обучить линейную регрессию на признаках total_square, distance_from_the_center, floor и rooms и получить неплоой результат."
   ]
  },
  {
   "attachments": {},
   "cell_type": "markdown",
   "metadata": {},
   "source": [
    "##### 5.3 Построение модели случайного леса с кросс валидацией и ее оценка"
   ]
  },
  {
   "cell_type": "code",
   "execution_count": 90,
   "metadata": {},
   "outputs": [],
   "source": [
    "#Создаём объект кросс-валидатора k-fold\n",
    "cv = model_selection.StratifiedKFold(n_splits=5)"
   ]
  },
  {
   "cell_type": "code",
   "execution_count": 91,
   "metadata": {},
   "outputs": [
    {
     "name": "stderr",
     "output_type": "stream",
     "text": [
      "c:\\Users\\l-pla\\anaconda3\\envs\\LI\\lib\\site-packages\\sklearn\\model_selection\\_split.py:700: UserWarning: The least populated class in y has only 1 members, which is less than n_splits=5.\n",
      "  warnings.warn(\n",
      "[Parallel(n_jobs=-1)]: Using backend LokyBackend with 8 concurrent workers.\n",
      "[Parallel(n_jobs=-1)]: Done  34 tasks      | elapsed:    9.6s\n",
      "[Parallel(n_jobs=-1)]: Done 100 out of 100 | elapsed:   20.5s finished\n",
      "[Parallel(n_jobs=8)]: Using backend ThreadingBackend with 8 concurrent workers.\n",
      "[Parallel(n_jobs=8)]: Done  34 tasks      | elapsed:    0.0s\n",
      "[Parallel(n_jobs=8)]: Done 100 out of 100 | elapsed:    0.1s finished\n",
      "[Parallel(n_jobs=8)]: Using backend ThreadingBackend with 8 concurrent workers.\n",
      "[Parallel(n_jobs=8)]: Done  34 tasks      | elapsed:    0.2s\n",
      "[Parallel(n_jobs=8)]: Done 100 out of 100 | elapsed:    0.8s finished\n",
      "[Parallel(n_jobs=-1)]: Using backend LokyBackend with 8 concurrent workers.\n",
      "[Parallel(n_jobs=-1)]: Done  34 tasks      | elapsed:    6.7s\n",
      "[Parallel(n_jobs=-1)]: Done 100 out of 100 | elapsed:   16.9s finished\n",
      "[Parallel(n_jobs=8)]: Using backend ThreadingBackend with 8 concurrent workers.\n",
      "[Parallel(n_jobs=8)]: Done  34 tasks      | elapsed:    0.0s\n",
      "[Parallel(n_jobs=8)]: Done 100 out of 100 | elapsed:    0.1s finished\n",
      "[Parallel(n_jobs=8)]: Using backend ThreadingBackend with 8 concurrent workers.\n",
      "[Parallel(n_jobs=8)]: Done  34 tasks      | elapsed:    0.2s\n",
      "[Parallel(n_jobs=8)]: Done 100 out of 100 | elapsed:    0.7s finished\n",
      "[Parallel(n_jobs=-1)]: Using backend LokyBackend with 8 concurrent workers.\n",
      "[Parallel(n_jobs=-1)]: Done  34 tasks      | elapsed:    6.1s\n",
      "[Parallel(n_jobs=-1)]: Done 100 out of 100 | elapsed:   16.4s finished\n",
      "[Parallel(n_jobs=8)]: Using backend ThreadingBackend with 8 concurrent workers.\n",
      "[Parallel(n_jobs=8)]: Done  34 tasks      | elapsed:    0.0s\n",
      "[Parallel(n_jobs=8)]: Done 100 out of 100 | elapsed:    0.1s finished\n",
      "[Parallel(n_jobs=8)]: Using backend ThreadingBackend with 8 concurrent workers.\n",
      "[Parallel(n_jobs=8)]: Done  34 tasks      | elapsed:    0.3s\n",
      "[Parallel(n_jobs=8)]: Done 100 out of 100 | elapsed:    0.8s finished\n",
      "[Parallel(n_jobs=-1)]: Using backend LokyBackend with 8 concurrent workers.\n",
      "[Parallel(n_jobs=-1)]: Done  34 tasks      | elapsed:    6.5s\n",
      "[Parallel(n_jobs=-1)]: Done 100 out of 100 | elapsed:   16.9s finished\n",
      "[Parallel(n_jobs=8)]: Using backend ThreadingBackend with 8 concurrent workers.\n",
      "[Parallel(n_jobs=8)]: Done  34 tasks      | elapsed:    0.0s\n",
      "[Parallel(n_jobs=8)]: Done 100 out of 100 | elapsed:    0.1s finished\n",
      "[Parallel(n_jobs=8)]: Using backend ThreadingBackend with 8 concurrent workers.\n",
      "[Parallel(n_jobs=8)]: Done  34 tasks      | elapsed:    0.2s\n",
      "[Parallel(n_jobs=8)]: Done 100 out of 100 | elapsed:    0.8s finished\n",
      "[Parallel(n_jobs=-1)]: Using backend LokyBackend with 8 concurrent workers.\n",
      "[Parallel(n_jobs=-1)]: Done  34 tasks      | elapsed:    6.4s\n",
      "[Parallel(n_jobs=-1)]: Done 100 out of 100 | elapsed:   17.1s finished\n",
      "[Parallel(n_jobs=8)]: Using backend ThreadingBackend with 8 concurrent workers.\n",
      "[Parallel(n_jobs=8)]: Done  34 tasks      | elapsed:    0.0s\n",
      "[Parallel(n_jobs=8)]: Done 100 out of 100 | elapsed:    0.1s finished\n",
      "[Parallel(n_jobs=8)]: Using backend ThreadingBackend with 8 concurrent workers.\n",
      "[Parallel(n_jobs=8)]: Done  34 tasks      | elapsed:    0.2s\n",
      "[Parallel(n_jobs=8)]: Done 100 out of 100 | elapsed:    0.8s finished\n"
     ]
    }
   ],
   "source": [
    "#Считаем метрики на кросс-валидации k-fold\n",
    "cv_metrics = model_selection.cross_validate(\n",
    "    estimator=regr,\n",
    "    X=X, \n",
    "    y=y, \n",
    "    cv=cv,\n",
    "    scoring='neg_mean_absolute_percentage_error',\n",
    "    return_train_score=True \n",
    ")"
   ]
  },
  {
   "cell_type": "code",
   "execution_count": 97,
   "metadata": {},
   "outputs": [
    {
     "name": "stdout",
     "output_type": "stream",
     "text": [
      "Train k-fold mape: 0.0362\n",
      "Valid k-fold mape: 0.0943\n"
     ]
    }
   ],
   "source": [
    "train_k_fold_mape = abs(np.mean(cv_metrics['train_score']))\n",
    "valid_k_fold_mape = abs(np.mean(cv_metrics['test_score']))\n",
    "\n",
    "print(f'Train k-fold mape: {round(train_k_fold_mape,4)}')\n",
    "print(f'Valid k-fold mape: {round(valid_k_fold_mape,4)}')"
   ]
  },
  {
   "cell_type": "markdown",
   "metadata": {},
   "source": [
    "#### 6. Сохранение модели"
   ]
  },
  {
   "cell_type": "code",
   "execution_count": 99,
   "metadata": {},
   "outputs": [
    {
     "data": {
      "text/plain": [
       "['model\\\\test_GPB_random_forest.joblib']"
      ]
     },
     "execution_count": 99,
     "metadata": {},
     "output_type": "execute_result"
    }
   ],
   "source": [
    "# Сохраним модель\n",
    "import joblib\n",
    "\n",
    "joblib.dump(regr, r\"model\\test_GPB_random_forest.joblib\")"
   ]
  },
  {
   "cell_type": "markdown",
   "metadata": {},
   "source": [
    "#### 7. Выводы и предложения по улучшению моделей"
   ]
  },
  {
   "cell_type": "markdown",
   "metadata": {},
   "source": [
    "1. Предложенная модель ошибается в предсказании цены на квартиру в среднем на 9.6 % или на 2.8 млн рублей для новых данных.\n",
    "2. В данной работе я больше времени уделял EDA, чем настройке модели. \n",
    "3. В качестве дальнейшего пути улучшения модели можно перебрать различные гиперпараметры, в том числе при помощи optuna. \n",
    "4. Также можно использовать более сильные модели, так как RandomForest для предсказаний почти не использовал (использовал в меньшей степени, чем числовые) категориальные фичи. Например, CatBoost так же с подбором гиперпараметров."
   ]
  }
 ],
 "metadata": {
  "kernelspec": {
   "display_name": "LI",
   "language": "python",
   "name": "python3"
  },
  "language_info": {
   "codemirror_mode": {
    "name": "ipython",
    "version": 3
   },
   "file_extension": ".py",
   "mimetype": "text/x-python",
   "name": "python",
   "nbconvert_exporter": "python",
   "pygments_lexer": "ipython3",
   "version": "3.9.16"
  },
  "orig_nbformat": 4
 },
 "nbformat": 4,
 "nbformat_minor": 2
}
